{
  "nbformat": 4,
  "nbformat_minor": 0,
  "metadata": {
    "colab": {
      "provenance": [],
      "collapsed_sections": []
    },
    "kernelspec": {
      "name": "python3",
      "display_name": "Python 3"
    },
    "language_info": {
      "name": "python"
    }
  },
  "cells": [
    {
      "cell_type": "markdown",
      "source": [
        "#**Import Libraries**"
      ],
      "metadata": {
        "id": "4jUQ4aBr9Spw"
      }
    },
    {
      "cell_type": "code",
      "execution_count": null,
      "metadata": {
        "id": "nTeJXF3eVoyr"
      },
      "outputs": [],
      "source": [
        "import pandas as pd\n",
        "import matplotlib.pyplot as plt\n",
        "import seaborn as sns\n",
        "sns.set(style=\"darkgrid\")\n",
        "import warnings\n",
        "warnings.filterwarnings('ignore')\n",
        "pd.set_option(\"max_rows\", None)\n",
        "pd.set_option('display.max_columns', 200)"
      ]
    },
    {
      "cell_type": "markdown",
      "source": [
        "#**Reading the data**\n"
      ],
      "metadata": {
        "id": "8WPVm9GAgrQb"
      }
    },
    {
      "cell_type": "code",
      "source": [
        "df = pd.read_csv(\"loan.csv\")"
      ],
      "metadata": {
        "id": "sjPxxPOigpOi"
      },
      "execution_count": null,
      "outputs": []
    },
    {
      "cell_type": "code",
      "source": [
        "df.head(3)"
      ],
      "metadata": {
        "colab": {
          "base_uri": "https://localhost:8080/",
          "height": 450
        },
        "id": "JsvZudhmXtgj",
        "outputId": "f21d0970-4e43-4ecd-e989-f8adf3d342dc"
      },
      "execution_count": null,
      "outputs": [
        {
          "output_type": "execute_result",
          "data": {
            "text/plain": [
              "        id  member_id  loan_amnt  funded_amnt  funded_amnt_inv        term  \\\n",
              "0  1077501    1296599       5000         5000           4975.0   36 months   \n",
              "1  1077430    1314167       2500         2500           2500.0   60 months   \n",
              "2  1077175    1313524       2400         2400           2400.0   36 months   \n",
              "\n",
              "  int_rate  installment grade sub_grade emp_title emp_length home_ownership  \\\n",
              "0   10.65%       162.87     B        B2       NaN  10+ years           RENT   \n",
              "1   15.27%        59.83     C        C4     Ryder   < 1 year           RENT   \n",
              "2   15.96%        84.33     C        C5       NaN  10+ years           RENT   \n",
              "\n",
              "   annual_inc verification_status issue_d  loan_status pymnt_plan  \\\n",
              "0     24000.0            Verified  Dec-11   Fully Paid          n   \n",
              "1     30000.0     Source Verified  Dec-11  Charged Off          n   \n",
              "2     12252.0        Not Verified  Dec-11   Fully Paid          n   \n",
              "\n",
              "                                                 url  \\\n",
              "0  https://lendingclub.com/browse/loanDetail.acti...   \n",
              "1  https://lendingclub.com/browse/loanDetail.acti...   \n",
              "2  https://lendingclub.com/browse/loanDetail.acti...   \n",
              "\n",
              "                                                desc         purpose  \\\n",
              "0    Borrower added on 12/22/11 > I need to upgra...     credit_card   \n",
              "1    Borrower added on 12/22/11 > I plan to use t...             car   \n",
              "2                                                NaN  small_business   \n",
              "\n",
              "                  title zip_code addr_state    dti  delinq_2yrs  \\\n",
              "0              Computer    860xx         AZ  27.65            0   \n",
              "1                  bike    309xx         GA   1.00            0   \n",
              "2  real estate business    606xx         IL   8.72            0   \n",
              "\n",
              "  earliest_cr_line  inq_last_6mths  mths_since_last_delinq  \\\n",
              "0           Jan-85               1                     NaN   \n",
              "1           Apr-99               5                     NaN   \n",
              "2           Nov-01               2                     NaN   \n",
              "\n",
              "   mths_since_last_record  open_acc  pub_rec  revol_bal revol_util  total_acc  \\\n",
              "0                     NaN         3        0      13648     83.70%          9   \n",
              "1                     NaN         3        0       1687      9.40%          4   \n",
              "2                     NaN         2        0       2956     98.50%         10   \n",
              "\n",
              "  initial_list_status  out_prncp  out_prncp_inv  total_pymnt  total_pymnt_inv  \\\n",
              "0                   f        0.0            0.0  5863.155187          5833.84   \n",
              "1                   f        0.0            0.0  1008.710000          1008.71   \n",
              "2                   f        0.0            0.0  3005.666844          3005.67   \n",
              "\n",
              "   total_rec_prncp  total_rec_int  total_rec_late_fee  recoveries  \\\n",
              "0          5000.00         863.16                 0.0        0.00   \n",
              "1           456.46         435.17                 0.0      117.08   \n",
              "2          2400.00         605.67                 0.0        0.00   \n",
              "\n",
              "   collection_recovery_fee last_pymnt_d  last_pymnt_amnt next_pymnt_d  \\\n",
              "0                     0.00       Jan-15           171.62          NaN   \n",
              "1                     1.11       Apr-13           119.66          NaN   \n",
              "2                     0.00       Jun-14           649.91          NaN   \n",
              "\n",
              "  last_credit_pull_d  collections_12_mths_ex_med  mths_since_last_major_derog  \\\n",
              "0             May-16                         0.0                          NaN   \n",
              "1             Sep-13                         0.0                          NaN   \n",
              "2             May-16                         0.0                          NaN   \n",
              "\n",
              "   policy_code application_type  annual_inc_joint  dti_joint  \\\n",
              "0            1       INDIVIDUAL               NaN        NaN   \n",
              "1            1       INDIVIDUAL               NaN        NaN   \n",
              "2            1       INDIVIDUAL               NaN        NaN   \n",
              "\n",
              "   verification_status_joint  acc_now_delinq  tot_coll_amt  tot_cur_bal  \\\n",
              "0                        NaN               0           NaN          NaN   \n",
              "1                        NaN               0           NaN          NaN   \n",
              "2                        NaN               0           NaN          NaN   \n",
              "\n",
              "   open_acc_6m  open_il_6m  open_il_12m  open_il_24m  mths_since_rcnt_il  \\\n",
              "0          NaN         NaN          NaN          NaN                 NaN   \n",
              "1          NaN         NaN          NaN          NaN                 NaN   \n",
              "2          NaN         NaN          NaN          NaN                 NaN   \n",
              "\n",
              "   total_bal_il  il_util  open_rv_12m  open_rv_24m  max_bal_bc  all_util  \\\n",
              "0           NaN      NaN          NaN          NaN         NaN       NaN   \n",
              "1           NaN      NaN          NaN          NaN         NaN       NaN   \n",
              "2           NaN      NaN          NaN          NaN         NaN       NaN   \n",
              "\n",
              "   total_rev_hi_lim  inq_fi  total_cu_tl  inq_last_12m  acc_open_past_24mths  \\\n",
              "0               NaN     NaN          NaN           NaN                   NaN   \n",
              "1               NaN     NaN          NaN           NaN                   NaN   \n",
              "2               NaN     NaN          NaN           NaN                   NaN   \n",
              "\n",
              "   avg_cur_bal  bc_open_to_buy  bc_util  chargeoff_within_12_mths  \\\n",
              "0          NaN             NaN      NaN                       0.0   \n",
              "1          NaN             NaN      NaN                       0.0   \n",
              "2          NaN             NaN      NaN                       0.0   \n",
              "\n",
              "   delinq_amnt  mo_sin_old_il_acct  mo_sin_old_rev_tl_op  \\\n",
              "0            0                 NaN                   NaN   \n",
              "1            0                 NaN                   NaN   \n",
              "2            0                 NaN                   NaN   \n",
              "\n",
              "   mo_sin_rcnt_rev_tl_op  mo_sin_rcnt_tl  mort_acc  mths_since_recent_bc  \\\n",
              "0                    NaN             NaN       NaN                   NaN   \n",
              "1                    NaN             NaN       NaN                   NaN   \n",
              "2                    NaN             NaN       NaN                   NaN   \n",
              "\n",
              "   mths_since_recent_bc_dlq  mths_since_recent_inq  \\\n",
              "0                       NaN                    NaN   \n",
              "1                       NaN                    NaN   \n",
              "2                       NaN                    NaN   \n",
              "\n",
              "   mths_since_recent_revol_delinq  num_accts_ever_120_pd  num_actv_bc_tl  \\\n",
              "0                             NaN                    NaN             NaN   \n",
              "1                             NaN                    NaN             NaN   \n",
              "2                             NaN                    NaN             NaN   \n",
              "\n",
              "   num_actv_rev_tl  num_bc_sats  num_bc_tl  num_il_tl  num_op_rev_tl  \\\n",
              "0              NaN          NaN        NaN        NaN            NaN   \n",
              "1              NaN          NaN        NaN        NaN            NaN   \n",
              "2              NaN          NaN        NaN        NaN            NaN   \n",
              "\n",
              "   num_rev_accts  num_rev_tl_bal_gt_0  num_sats  num_tl_120dpd_2m  \\\n",
              "0            NaN                  NaN       NaN               NaN   \n",
              "1            NaN                  NaN       NaN               NaN   \n",
              "2            NaN                  NaN       NaN               NaN   \n",
              "\n",
              "   num_tl_30dpd  num_tl_90g_dpd_24m  num_tl_op_past_12m  pct_tl_nvr_dlq  \\\n",
              "0           NaN                 NaN                 NaN             NaN   \n",
              "1           NaN                 NaN                 NaN             NaN   \n",
              "2           NaN                 NaN                 NaN             NaN   \n",
              "\n",
              "   percent_bc_gt_75  pub_rec_bankruptcies  tax_liens  tot_hi_cred_lim  \\\n",
              "0               NaN                   0.0        0.0              NaN   \n",
              "1               NaN                   0.0        0.0              NaN   \n",
              "2               NaN                   0.0        0.0              NaN   \n",
              "\n",
              "   total_bal_ex_mort  total_bc_limit  total_il_high_credit_limit  \n",
              "0                NaN             NaN                         NaN  \n",
              "1                NaN             NaN                         NaN  \n",
              "2                NaN             NaN                         NaN  "
            ],
            "text/html": [
              "\n",
              "  <div id=\"df-fe71281c-a113-4d41-bb82-5b3026865e54\">\n",
              "    <div class=\"colab-df-container\">\n",
              "      <div>\n",
              "<style scoped>\n",
              "    .dataframe tbody tr th:only-of-type {\n",
              "        vertical-align: middle;\n",
              "    }\n",
              "\n",
              "    .dataframe tbody tr th {\n",
              "        vertical-align: top;\n",
              "    }\n",
              "\n",
              "    .dataframe thead th {\n",
              "        text-align: right;\n",
              "    }\n",
              "</style>\n",
              "<table border=\"1\" class=\"dataframe\">\n",
              "  <thead>\n",
              "    <tr style=\"text-align: right;\">\n",
              "      <th></th>\n",
              "      <th>id</th>\n",
              "      <th>member_id</th>\n",
              "      <th>loan_amnt</th>\n",
              "      <th>funded_amnt</th>\n",
              "      <th>funded_amnt_inv</th>\n",
              "      <th>term</th>\n",
              "      <th>int_rate</th>\n",
              "      <th>installment</th>\n",
              "      <th>grade</th>\n",
              "      <th>sub_grade</th>\n",
              "      <th>emp_title</th>\n",
              "      <th>emp_length</th>\n",
              "      <th>home_ownership</th>\n",
              "      <th>annual_inc</th>\n",
              "      <th>verification_status</th>\n",
              "      <th>issue_d</th>\n",
              "      <th>loan_status</th>\n",
              "      <th>pymnt_plan</th>\n",
              "      <th>url</th>\n",
              "      <th>desc</th>\n",
              "      <th>purpose</th>\n",
              "      <th>title</th>\n",
              "      <th>zip_code</th>\n",
              "      <th>addr_state</th>\n",
              "      <th>dti</th>\n",
              "      <th>delinq_2yrs</th>\n",
              "      <th>earliest_cr_line</th>\n",
              "      <th>inq_last_6mths</th>\n",
              "      <th>mths_since_last_delinq</th>\n",
              "      <th>mths_since_last_record</th>\n",
              "      <th>open_acc</th>\n",
              "      <th>pub_rec</th>\n",
              "      <th>revol_bal</th>\n",
              "      <th>revol_util</th>\n",
              "      <th>total_acc</th>\n",
              "      <th>initial_list_status</th>\n",
              "      <th>out_prncp</th>\n",
              "      <th>out_prncp_inv</th>\n",
              "      <th>total_pymnt</th>\n",
              "      <th>total_pymnt_inv</th>\n",
              "      <th>total_rec_prncp</th>\n",
              "      <th>total_rec_int</th>\n",
              "      <th>total_rec_late_fee</th>\n",
              "      <th>recoveries</th>\n",
              "      <th>collection_recovery_fee</th>\n",
              "      <th>last_pymnt_d</th>\n",
              "      <th>last_pymnt_amnt</th>\n",
              "      <th>next_pymnt_d</th>\n",
              "      <th>last_credit_pull_d</th>\n",
              "      <th>collections_12_mths_ex_med</th>\n",
              "      <th>mths_since_last_major_derog</th>\n",
              "      <th>policy_code</th>\n",
              "      <th>application_type</th>\n",
              "      <th>annual_inc_joint</th>\n",
              "      <th>dti_joint</th>\n",
              "      <th>verification_status_joint</th>\n",
              "      <th>acc_now_delinq</th>\n",
              "      <th>tot_coll_amt</th>\n",
              "      <th>tot_cur_bal</th>\n",
              "      <th>open_acc_6m</th>\n",
              "      <th>open_il_6m</th>\n",
              "      <th>open_il_12m</th>\n",
              "      <th>open_il_24m</th>\n",
              "      <th>mths_since_rcnt_il</th>\n",
              "      <th>total_bal_il</th>\n",
              "      <th>il_util</th>\n",
              "      <th>open_rv_12m</th>\n",
              "      <th>open_rv_24m</th>\n",
              "      <th>max_bal_bc</th>\n",
              "      <th>all_util</th>\n",
              "      <th>total_rev_hi_lim</th>\n",
              "      <th>inq_fi</th>\n",
              "      <th>total_cu_tl</th>\n",
              "      <th>inq_last_12m</th>\n",
              "      <th>acc_open_past_24mths</th>\n",
              "      <th>avg_cur_bal</th>\n",
              "      <th>bc_open_to_buy</th>\n",
              "      <th>bc_util</th>\n",
              "      <th>chargeoff_within_12_mths</th>\n",
              "      <th>delinq_amnt</th>\n",
              "      <th>mo_sin_old_il_acct</th>\n",
              "      <th>mo_sin_old_rev_tl_op</th>\n",
              "      <th>mo_sin_rcnt_rev_tl_op</th>\n",
              "      <th>mo_sin_rcnt_tl</th>\n",
              "      <th>mort_acc</th>\n",
              "      <th>mths_since_recent_bc</th>\n",
              "      <th>mths_since_recent_bc_dlq</th>\n",
              "      <th>mths_since_recent_inq</th>\n",
              "      <th>mths_since_recent_revol_delinq</th>\n",
              "      <th>num_accts_ever_120_pd</th>\n",
              "      <th>num_actv_bc_tl</th>\n",
              "      <th>num_actv_rev_tl</th>\n",
              "      <th>num_bc_sats</th>\n",
              "      <th>num_bc_tl</th>\n",
              "      <th>num_il_tl</th>\n",
              "      <th>num_op_rev_tl</th>\n",
              "      <th>num_rev_accts</th>\n",
              "      <th>num_rev_tl_bal_gt_0</th>\n",
              "      <th>num_sats</th>\n",
              "      <th>num_tl_120dpd_2m</th>\n",
              "      <th>num_tl_30dpd</th>\n",
              "      <th>num_tl_90g_dpd_24m</th>\n",
              "      <th>num_tl_op_past_12m</th>\n",
              "      <th>pct_tl_nvr_dlq</th>\n",
              "      <th>percent_bc_gt_75</th>\n",
              "      <th>pub_rec_bankruptcies</th>\n",
              "      <th>tax_liens</th>\n",
              "      <th>tot_hi_cred_lim</th>\n",
              "      <th>total_bal_ex_mort</th>\n",
              "      <th>total_bc_limit</th>\n",
              "      <th>total_il_high_credit_limit</th>\n",
              "    </tr>\n",
              "  </thead>\n",
              "  <tbody>\n",
              "    <tr>\n",
              "      <th>0</th>\n",
              "      <td>1077501</td>\n",
              "      <td>1296599</td>\n",
              "      <td>5000</td>\n",
              "      <td>5000</td>\n",
              "      <td>4975.0</td>\n",
              "      <td>36 months</td>\n",
              "      <td>10.65%</td>\n",
              "      <td>162.87</td>\n",
              "      <td>B</td>\n",
              "      <td>B2</td>\n",
              "      <td>NaN</td>\n",
              "      <td>10+ years</td>\n",
              "      <td>RENT</td>\n",
              "      <td>24000.0</td>\n",
              "      <td>Verified</td>\n",
              "      <td>Dec-11</td>\n",
              "      <td>Fully Paid</td>\n",
              "      <td>n</td>\n",
              "      <td>https://lendingclub.com/browse/loanDetail.acti...</td>\n",
              "      <td>Borrower added on 12/22/11 &gt; I need to upgra...</td>\n",
              "      <td>credit_card</td>\n",
              "      <td>Computer</td>\n",
              "      <td>860xx</td>\n",
              "      <td>AZ</td>\n",
              "      <td>27.65</td>\n",
              "      <td>0</td>\n",
              "      <td>Jan-85</td>\n",
              "      <td>1</td>\n",
              "      <td>NaN</td>\n",
              "      <td>NaN</td>\n",
              "      <td>3</td>\n",
              "      <td>0</td>\n",
              "      <td>13648</td>\n",
              "      <td>83.70%</td>\n",
              "      <td>9</td>\n",
              "      <td>f</td>\n",
              "      <td>0.0</td>\n",
              "      <td>0.0</td>\n",
              "      <td>5863.155187</td>\n",
              "      <td>5833.84</td>\n",
              "      <td>5000.00</td>\n",
              "      <td>863.16</td>\n",
              "      <td>0.0</td>\n",
              "      <td>0.00</td>\n",
              "      <td>0.00</td>\n",
              "      <td>Jan-15</td>\n",
              "      <td>171.62</td>\n",
              "      <td>NaN</td>\n",
              "      <td>May-16</td>\n",
              "      <td>0.0</td>\n",
              "      <td>NaN</td>\n",
              "      <td>1</td>\n",
              "      <td>INDIVIDUAL</td>\n",
              "      <td>NaN</td>\n",
              "      <td>NaN</td>\n",
              "      <td>NaN</td>\n",
              "      <td>0</td>\n",
              "      <td>NaN</td>\n",
              "      <td>NaN</td>\n",
              "      <td>NaN</td>\n",
              "      <td>NaN</td>\n",
              "      <td>NaN</td>\n",
              "      <td>NaN</td>\n",
              "      <td>NaN</td>\n",
              "      <td>NaN</td>\n",
              "      <td>NaN</td>\n",
              "      <td>NaN</td>\n",
              "      <td>NaN</td>\n",
              "      <td>NaN</td>\n",
              "      <td>NaN</td>\n",
              "      <td>NaN</td>\n",
              "      <td>NaN</td>\n",
              "      <td>NaN</td>\n",
              "      <td>NaN</td>\n",
              "      <td>NaN</td>\n",
              "      <td>NaN</td>\n",
              "      <td>NaN</td>\n",
              "      <td>NaN</td>\n",
              "      <td>0.0</td>\n",
              "      <td>0</td>\n",
              "      <td>NaN</td>\n",
              "      <td>NaN</td>\n",
              "      <td>NaN</td>\n",
              "      <td>NaN</td>\n",
              "      <td>NaN</td>\n",
              "      <td>NaN</td>\n",
              "      <td>NaN</td>\n",
              "      <td>NaN</td>\n",
              "      <td>NaN</td>\n",
              "      <td>NaN</td>\n",
              "      <td>NaN</td>\n",
              "      <td>NaN</td>\n",
              "      <td>NaN</td>\n",
              "      <td>NaN</td>\n",
              "      <td>NaN</td>\n",
              "      <td>NaN</td>\n",
              "      <td>NaN</td>\n",
              "      <td>NaN</td>\n",
              "      <td>NaN</td>\n",
              "      <td>NaN</td>\n",
              "      <td>NaN</td>\n",
              "      <td>NaN</td>\n",
              "      <td>NaN</td>\n",
              "      <td>NaN</td>\n",
              "      <td>NaN</td>\n",
              "      <td>0.0</td>\n",
              "      <td>0.0</td>\n",
              "      <td>NaN</td>\n",
              "      <td>NaN</td>\n",
              "      <td>NaN</td>\n",
              "      <td>NaN</td>\n",
              "    </tr>\n",
              "    <tr>\n",
              "      <th>1</th>\n",
              "      <td>1077430</td>\n",
              "      <td>1314167</td>\n",
              "      <td>2500</td>\n",
              "      <td>2500</td>\n",
              "      <td>2500.0</td>\n",
              "      <td>60 months</td>\n",
              "      <td>15.27%</td>\n",
              "      <td>59.83</td>\n",
              "      <td>C</td>\n",
              "      <td>C4</td>\n",
              "      <td>Ryder</td>\n",
              "      <td>&lt; 1 year</td>\n",
              "      <td>RENT</td>\n",
              "      <td>30000.0</td>\n",
              "      <td>Source Verified</td>\n",
              "      <td>Dec-11</td>\n",
              "      <td>Charged Off</td>\n",
              "      <td>n</td>\n",
              "      <td>https://lendingclub.com/browse/loanDetail.acti...</td>\n",
              "      <td>Borrower added on 12/22/11 &gt; I plan to use t...</td>\n",
              "      <td>car</td>\n",
              "      <td>bike</td>\n",
              "      <td>309xx</td>\n",
              "      <td>GA</td>\n",
              "      <td>1.00</td>\n",
              "      <td>0</td>\n",
              "      <td>Apr-99</td>\n",
              "      <td>5</td>\n",
              "      <td>NaN</td>\n",
              "      <td>NaN</td>\n",
              "      <td>3</td>\n",
              "      <td>0</td>\n",
              "      <td>1687</td>\n",
              "      <td>9.40%</td>\n",
              "      <td>4</td>\n",
              "      <td>f</td>\n",
              "      <td>0.0</td>\n",
              "      <td>0.0</td>\n",
              "      <td>1008.710000</td>\n",
              "      <td>1008.71</td>\n",
              "      <td>456.46</td>\n",
              "      <td>435.17</td>\n",
              "      <td>0.0</td>\n",
              "      <td>117.08</td>\n",
              "      <td>1.11</td>\n",
              "      <td>Apr-13</td>\n",
              "      <td>119.66</td>\n",
              "      <td>NaN</td>\n",
              "      <td>Sep-13</td>\n",
              "      <td>0.0</td>\n",
              "      <td>NaN</td>\n",
              "      <td>1</td>\n",
              "      <td>INDIVIDUAL</td>\n",
              "      <td>NaN</td>\n",
              "      <td>NaN</td>\n",
              "      <td>NaN</td>\n",
              "      <td>0</td>\n",
              "      <td>NaN</td>\n",
              "      <td>NaN</td>\n",
              "      <td>NaN</td>\n",
              "      <td>NaN</td>\n",
              "      <td>NaN</td>\n",
              "      <td>NaN</td>\n",
              "      <td>NaN</td>\n",
              "      <td>NaN</td>\n",
              "      <td>NaN</td>\n",
              "      <td>NaN</td>\n",
              "      <td>NaN</td>\n",
              "      <td>NaN</td>\n",
              "      <td>NaN</td>\n",
              "      <td>NaN</td>\n",
              "      <td>NaN</td>\n",
              "      <td>NaN</td>\n",
              "      <td>NaN</td>\n",
              "      <td>NaN</td>\n",
              "      <td>NaN</td>\n",
              "      <td>NaN</td>\n",
              "      <td>NaN</td>\n",
              "      <td>0.0</td>\n",
              "      <td>0</td>\n",
              "      <td>NaN</td>\n",
              "      <td>NaN</td>\n",
              "      <td>NaN</td>\n",
              "      <td>NaN</td>\n",
              "      <td>NaN</td>\n",
              "      <td>NaN</td>\n",
              "      <td>NaN</td>\n",
              "      <td>NaN</td>\n",
              "      <td>NaN</td>\n",
              "      <td>NaN</td>\n",
              "      <td>NaN</td>\n",
              "      <td>NaN</td>\n",
              "      <td>NaN</td>\n",
              "      <td>NaN</td>\n",
              "      <td>NaN</td>\n",
              "      <td>NaN</td>\n",
              "      <td>NaN</td>\n",
              "      <td>NaN</td>\n",
              "      <td>NaN</td>\n",
              "      <td>NaN</td>\n",
              "      <td>NaN</td>\n",
              "      <td>NaN</td>\n",
              "      <td>NaN</td>\n",
              "      <td>NaN</td>\n",
              "      <td>NaN</td>\n",
              "      <td>0.0</td>\n",
              "      <td>0.0</td>\n",
              "      <td>NaN</td>\n",
              "      <td>NaN</td>\n",
              "      <td>NaN</td>\n",
              "      <td>NaN</td>\n",
              "    </tr>\n",
              "    <tr>\n",
              "      <th>2</th>\n",
              "      <td>1077175</td>\n",
              "      <td>1313524</td>\n",
              "      <td>2400</td>\n",
              "      <td>2400</td>\n",
              "      <td>2400.0</td>\n",
              "      <td>36 months</td>\n",
              "      <td>15.96%</td>\n",
              "      <td>84.33</td>\n",
              "      <td>C</td>\n",
              "      <td>C5</td>\n",
              "      <td>NaN</td>\n",
              "      <td>10+ years</td>\n",
              "      <td>RENT</td>\n",
              "      <td>12252.0</td>\n",
              "      <td>Not Verified</td>\n",
              "      <td>Dec-11</td>\n",
              "      <td>Fully Paid</td>\n",
              "      <td>n</td>\n",
              "      <td>https://lendingclub.com/browse/loanDetail.acti...</td>\n",
              "      <td>NaN</td>\n",
              "      <td>small_business</td>\n",
              "      <td>real estate business</td>\n",
              "      <td>606xx</td>\n",
              "      <td>IL</td>\n",
              "      <td>8.72</td>\n",
              "      <td>0</td>\n",
              "      <td>Nov-01</td>\n",
              "      <td>2</td>\n",
              "      <td>NaN</td>\n",
              "      <td>NaN</td>\n",
              "      <td>2</td>\n",
              "      <td>0</td>\n",
              "      <td>2956</td>\n",
              "      <td>98.50%</td>\n",
              "      <td>10</td>\n",
              "      <td>f</td>\n",
              "      <td>0.0</td>\n",
              "      <td>0.0</td>\n",
              "      <td>3005.666844</td>\n",
              "      <td>3005.67</td>\n",
              "      <td>2400.00</td>\n",
              "      <td>605.67</td>\n",
              "      <td>0.0</td>\n",
              "      <td>0.00</td>\n",
              "      <td>0.00</td>\n",
              "      <td>Jun-14</td>\n",
              "      <td>649.91</td>\n",
              "      <td>NaN</td>\n",
              "      <td>May-16</td>\n",
              "      <td>0.0</td>\n",
              "      <td>NaN</td>\n",
              "      <td>1</td>\n",
              "      <td>INDIVIDUAL</td>\n",
              "      <td>NaN</td>\n",
              "      <td>NaN</td>\n",
              "      <td>NaN</td>\n",
              "      <td>0</td>\n",
              "      <td>NaN</td>\n",
              "      <td>NaN</td>\n",
              "      <td>NaN</td>\n",
              "      <td>NaN</td>\n",
              "      <td>NaN</td>\n",
              "      <td>NaN</td>\n",
              "      <td>NaN</td>\n",
              "      <td>NaN</td>\n",
              "      <td>NaN</td>\n",
              "      <td>NaN</td>\n",
              "      <td>NaN</td>\n",
              "      <td>NaN</td>\n",
              "      <td>NaN</td>\n",
              "      <td>NaN</td>\n",
              "      <td>NaN</td>\n",
              "      <td>NaN</td>\n",
              "      <td>NaN</td>\n",
              "      <td>NaN</td>\n",
              "      <td>NaN</td>\n",
              "      <td>NaN</td>\n",
              "      <td>NaN</td>\n",
              "      <td>0.0</td>\n",
              "      <td>0</td>\n",
              "      <td>NaN</td>\n",
              "      <td>NaN</td>\n",
              "      <td>NaN</td>\n",
              "      <td>NaN</td>\n",
              "      <td>NaN</td>\n",
              "      <td>NaN</td>\n",
              "      <td>NaN</td>\n",
              "      <td>NaN</td>\n",
              "      <td>NaN</td>\n",
              "      <td>NaN</td>\n",
              "      <td>NaN</td>\n",
              "      <td>NaN</td>\n",
              "      <td>NaN</td>\n",
              "      <td>NaN</td>\n",
              "      <td>NaN</td>\n",
              "      <td>NaN</td>\n",
              "      <td>NaN</td>\n",
              "      <td>NaN</td>\n",
              "      <td>NaN</td>\n",
              "      <td>NaN</td>\n",
              "      <td>NaN</td>\n",
              "      <td>NaN</td>\n",
              "      <td>NaN</td>\n",
              "      <td>NaN</td>\n",
              "      <td>NaN</td>\n",
              "      <td>0.0</td>\n",
              "      <td>0.0</td>\n",
              "      <td>NaN</td>\n",
              "      <td>NaN</td>\n",
              "      <td>NaN</td>\n",
              "      <td>NaN</td>\n",
              "    </tr>\n",
              "  </tbody>\n",
              "</table>\n",
              "</div>\n",
              "      <button class=\"colab-df-convert\" onclick=\"convertToInteractive('df-fe71281c-a113-4d41-bb82-5b3026865e54')\"\n",
              "              title=\"Convert this dataframe to an interactive table.\"\n",
              "              style=\"display:none;\">\n",
              "        \n",
              "  <svg xmlns=\"http://www.w3.org/2000/svg\" height=\"24px\"viewBox=\"0 0 24 24\"\n",
              "       width=\"24px\">\n",
              "    <path d=\"M0 0h24v24H0V0z\" fill=\"none\"/>\n",
              "    <path d=\"M18.56 5.44l.94 2.06.94-2.06 2.06-.94-2.06-.94-.94-2.06-.94 2.06-2.06.94zm-11 1L8.5 8.5l.94-2.06 2.06-.94-2.06-.94L8.5 2.5l-.94 2.06-2.06.94zm10 10l.94 2.06.94-2.06 2.06-.94-2.06-.94-.94-2.06-.94 2.06-2.06.94z\"/><path d=\"M17.41 7.96l-1.37-1.37c-.4-.4-.92-.59-1.43-.59-.52 0-1.04.2-1.43.59L10.3 9.45l-7.72 7.72c-.78.78-.78 2.05 0 2.83L4 21.41c.39.39.9.59 1.41.59.51 0 1.02-.2 1.41-.59l7.78-7.78 2.81-2.81c.8-.78.8-2.07 0-2.86zM5.41 20L4 18.59l7.72-7.72 1.47 1.35L5.41 20z\"/>\n",
              "  </svg>\n",
              "      </button>\n",
              "      \n",
              "  <style>\n",
              "    .colab-df-container {\n",
              "      display:flex;\n",
              "      flex-wrap:wrap;\n",
              "      gap: 12px;\n",
              "    }\n",
              "\n",
              "    .colab-df-convert {\n",
              "      background-color: #E8F0FE;\n",
              "      border: none;\n",
              "      border-radius: 50%;\n",
              "      cursor: pointer;\n",
              "      display: none;\n",
              "      fill: #1967D2;\n",
              "      height: 32px;\n",
              "      padding: 0 0 0 0;\n",
              "      width: 32px;\n",
              "    }\n",
              "\n",
              "    .colab-df-convert:hover {\n",
              "      background-color: #E2EBFA;\n",
              "      box-shadow: 0px 1px 2px rgba(60, 64, 67, 0.3), 0px 1px 3px 1px rgba(60, 64, 67, 0.15);\n",
              "      fill: #174EA6;\n",
              "    }\n",
              "\n",
              "    [theme=dark] .colab-df-convert {\n",
              "      background-color: #3B4455;\n",
              "      fill: #D2E3FC;\n",
              "    }\n",
              "\n",
              "    [theme=dark] .colab-df-convert:hover {\n",
              "      background-color: #434B5C;\n",
              "      box-shadow: 0px 1px 3px 1px rgba(0, 0, 0, 0.15);\n",
              "      filter: drop-shadow(0px 1px 2px rgba(0, 0, 0, 0.3));\n",
              "      fill: #FFFFFF;\n",
              "    }\n",
              "  </style>\n",
              "\n",
              "      <script>\n",
              "        const buttonEl =\n",
              "          document.querySelector('#df-fe71281c-a113-4d41-bb82-5b3026865e54 button.colab-df-convert');\n",
              "        buttonEl.style.display =\n",
              "          google.colab.kernel.accessAllowed ? 'block' : 'none';\n",
              "\n",
              "        async function convertToInteractive(key) {\n",
              "          const element = document.querySelector('#df-fe71281c-a113-4d41-bb82-5b3026865e54');\n",
              "          const dataTable =\n",
              "            await google.colab.kernel.invokeFunction('convertToInteractive',\n",
              "                                                     [key], {});\n",
              "          if (!dataTable) return;\n",
              "\n",
              "          const docLinkHtml = 'Like what you see? Visit the ' +\n",
              "            '<a target=\"_blank\" href=https://colab.research.google.com/notebooks/data_table.ipynb>data table notebook</a>'\n",
              "            + ' to learn more about interactive tables.';\n",
              "          element.innerHTML = '';\n",
              "          dataTable['output_type'] = 'display_data';\n",
              "          await google.colab.output.renderOutput(dataTable, element);\n",
              "          const docLink = document.createElement('div');\n",
              "          docLink.innerHTML = docLinkHtml;\n",
              "          element.appendChild(docLink);\n",
              "        }\n",
              "      </script>\n",
              "    </div>\n",
              "  </div>\n",
              "  "
            ]
          },
          "metadata": {},
          "execution_count": 3
        }
      ]
    },
    {
      "cell_type": "code",
      "source": [
        "df.shape"
      ],
      "metadata": {
        "colab": {
          "base_uri": "https://localhost:8080/"
        },
        "id": "8JOmYfKOYDh_",
        "outputId": "41e1bb5b-44af-48b9-a5be-df1bfaedf528"
      },
      "execution_count": null,
      "outputs": [
        {
          "output_type": "execute_result",
          "data": {
            "text/plain": [
              "(39717, 111)"
            ]
          },
          "metadata": {},
          "execution_count": 4
        }
      ]
    },
    {
      "cell_type": "code",
      "source": [
        "pd.set_option('display.max_info_columns', 200)\n",
        "df.info()"
      ],
      "metadata": {
        "colab": {
          "base_uri": "https://localhost:8080/"
        },
        "id": "ZgzUbLpOYuGf",
        "outputId": "76ca5b5a-e658-4ba4-8669-3499639b1655"
      },
      "execution_count": null,
      "outputs": [
        {
          "output_type": "stream",
          "name": "stdout",
          "text": [
            "<class 'pandas.core.frame.DataFrame'>\n",
            "RangeIndex: 39717 entries, 0 to 39716\n",
            "Data columns (total 111 columns):\n",
            " #    Column                          Non-Null Count  Dtype  \n",
            "---   ------                          --------------  -----  \n",
            " 0    id                              39717 non-null  int64  \n",
            " 1    member_id                       39717 non-null  int64  \n",
            " 2    loan_amnt                       39717 non-null  int64  \n",
            " 3    funded_amnt                     39717 non-null  int64  \n",
            " 4    funded_amnt_inv                 39717 non-null  float64\n",
            " 5    term                            39717 non-null  object \n",
            " 6    int_rate                        39717 non-null  object \n",
            " 7    installment                     39717 non-null  float64\n",
            " 8    grade                           39717 non-null  object \n",
            " 9    sub_grade                       39717 non-null  object \n",
            " 10   emp_title                       37258 non-null  object \n",
            " 11   emp_length                      38642 non-null  object \n",
            " 12   home_ownership                  39717 non-null  object \n",
            " 13   annual_inc                      39717 non-null  float64\n",
            " 14   verification_status             39717 non-null  object \n",
            " 15   issue_d                         39717 non-null  object \n",
            " 16   loan_status                     39717 non-null  object \n",
            " 17   pymnt_plan                      39717 non-null  object \n",
            " 18   url                             39717 non-null  object \n",
            " 19   desc                            26777 non-null  object \n",
            " 20   purpose                         39717 non-null  object \n",
            " 21   title                           39706 non-null  object \n",
            " 22   zip_code                        39717 non-null  object \n",
            " 23   addr_state                      39717 non-null  object \n",
            " 24   dti                             39717 non-null  float64\n",
            " 25   delinq_2yrs                     39717 non-null  int64  \n",
            " 26   earliest_cr_line                39717 non-null  object \n",
            " 27   inq_last_6mths                  39717 non-null  int64  \n",
            " 28   mths_since_last_delinq          14035 non-null  float64\n",
            " 29   mths_since_last_record          2786 non-null   float64\n",
            " 30   open_acc                        39717 non-null  int64  \n",
            " 31   pub_rec                         39717 non-null  int64  \n",
            " 32   revol_bal                       39717 non-null  int64  \n",
            " 33   revol_util                      39667 non-null  object \n",
            " 34   total_acc                       39717 non-null  int64  \n",
            " 35   initial_list_status             39717 non-null  object \n",
            " 36   out_prncp                       39717 non-null  float64\n",
            " 37   out_prncp_inv                   39717 non-null  float64\n",
            " 38   total_pymnt                     39717 non-null  float64\n",
            " 39   total_pymnt_inv                 39717 non-null  float64\n",
            " 40   total_rec_prncp                 39717 non-null  float64\n",
            " 41   total_rec_int                   39717 non-null  float64\n",
            " 42   total_rec_late_fee              39717 non-null  float64\n",
            " 43   recoveries                      39717 non-null  float64\n",
            " 44   collection_recovery_fee         39717 non-null  float64\n",
            " 45   last_pymnt_d                    39646 non-null  object \n",
            " 46   last_pymnt_amnt                 39717 non-null  float64\n",
            " 47   next_pymnt_d                    1140 non-null   object \n",
            " 48   last_credit_pull_d              39715 non-null  object \n",
            " 49   collections_12_mths_ex_med      39661 non-null  float64\n",
            " 50   mths_since_last_major_derog     0 non-null      float64\n",
            " 51   policy_code                     39717 non-null  int64  \n",
            " 52   application_type                39717 non-null  object \n",
            " 53   annual_inc_joint                0 non-null      float64\n",
            " 54   dti_joint                       0 non-null      float64\n",
            " 55   verification_status_joint       0 non-null      float64\n",
            " 56   acc_now_delinq                  39717 non-null  int64  \n",
            " 57   tot_coll_amt                    0 non-null      float64\n",
            " 58   tot_cur_bal                     0 non-null      float64\n",
            " 59   open_acc_6m                     0 non-null      float64\n",
            " 60   open_il_6m                      0 non-null      float64\n",
            " 61   open_il_12m                     0 non-null      float64\n",
            " 62   open_il_24m                     0 non-null      float64\n",
            " 63   mths_since_rcnt_il              0 non-null      float64\n",
            " 64   total_bal_il                    0 non-null      float64\n",
            " 65   il_util                         0 non-null      float64\n",
            " 66   open_rv_12m                     0 non-null      float64\n",
            " 67   open_rv_24m                     0 non-null      float64\n",
            " 68   max_bal_bc                      0 non-null      float64\n",
            " 69   all_util                        0 non-null      float64\n",
            " 70   total_rev_hi_lim                0 non-null      float64\n",
            " 71   inq_fi                          0 non-null      float64\n",
            " 72   total_cu_tl                     0 non-null      float64\n",
            " 73   inq_last_12m                    0 non-null      float64\n",
            " 74   acc_open_past_24mths            0 non-null      float64\n",
            " 75   avg_cur_bal                     0 non-null      float64\n",
            " 76   bc_open_to_buy                  0 non-null      float64\n",
            " 77   bc_util                         0 non-null      float64\n",
            " 78   chargeoff_within_12_mths        39661 non-null  float64\n",
            " 79   delinq_amnt                     39717 non-null  int64  \n",
            " 80   mo_sin_old_il_acct              0 non-null      float64\n",
            " 81   mo_sin_old_rev_tl_op            0 non-null      float64\n",
            " 82   mo_sin_rcnt_rev_tl_op           0 non-null      float64\n",
            " 83   mo_sin_rcnt_tl                  0 non-null      float64\n",
            " 84   mort_acc                        0 non-null      float64\n",
            " 85   mths_since_recent_bc            0 non-null      float64\n",
            " 86   mths_since_recent_bc_dlq        0 non-null      float64\n",
            " 87   mths_since_recent_inq           0 non-null      float64\n",
            " 88   mths_since_recent_revol_delinq  0 non-null      float64\n",
            " 89   num_accts_ever_120_pd           0 non-null      float64\n",
            " 90   num_actv_bc_tl                  0 non-null      float64\n",
            " 91   num_actv_rev_tl                 0 non-null      float64\n",
            " 92   num_bc_sats                     0 non-null      float64\n",
            " 93   num_bc_tl                       0 non-null      float64\n",
            " 94   num_il_tl                       0 non-null      float64\n",
            " 95   num_op_rev_tl                   0 non-null      float64\n",
            " 96   num_rev_accts                   0 non-null      float64\n",
            " 97   num_rev_tl_bal_gt_0             0 non-null      float64\n",
            " 98   num_sats                        0 non-null      float64\n",
            " 99   num_tl_120dpd_2m                0 non-null      float64\n",
            " 100  num_tl_30dpd                    0 non-null      float64\n",
            " 101  num_tl_90g_dpd_24m              0 non-null      float64\n",
            " 102  num_tl_op_past_12m              0 non-null      float64\n",
            " 103  pct_tl_nvr_dlq                  0 non-null      float64\n",
            " 104  percent_bc_gt_75                0 non-null      float64\n",
            " 105  pub_rec_bankruptcies            39020 non-null  float64\n",
            " 106  tax_liens                       39678 non-null  float64\n",
            " 107  tot_hi_cred_lim                 0 non-null      float64\n",
            " 108  total_bal_ex_mort               0 non-null      float64\n",
            " 109  total_bc_limit                  0 non-null      float64\n",
            " 110  total_il_high_credit_limit      0 non-null      float64\n",
            "dtypes: float64(74), int64(13), object(24)\n",
            "memory usage: 33.6+ MB\n"
          ]
        }
      ]
    },
    {
      "cell_type": "markdown",
      "source": [
        "There many columns with only null values. These should be removed as part of cleaning."
      ],
      "metadata": {
        "id": "vCZWvJtpBNj2"
      }
    },
    {
      "cell_type": "markdown",
      "source": [
        "#**Data Cleaning**"
      ],
      "metadata": {
        "id": "zuZuFmuR-A5U"
      }
    },
    {
      "cell_type": "markdown",
      "source": [
        "\n",
        "### **Inspect the null values**"
      ],
      "metadata": {
        "id": "AhNObhWP-V5d"
      }
    },
    {
      "cell_type": "code",
      "source": [
        "null_per = (df.isnull().sum()/len(df.index))*100\n",
        "null_per[null_per==100]"
      ],
      "metadata": {
        "colab": {
          "base_uri": "https://localhost:8080/"
        },
        "id": "ukdUfezvZosK",
        "outputId": "c545a41a-59a6-4248-fa4a-f3d72255e7f5"
      },
      "execution_count": null,
      "outputs": [
        {
          "output_type": "execute_result",
          "data": {
            "text/plain": [
              "mths_since_last_major_derog       100.0\n",
              "annual_inc_joint                  100.0\n",
              "dti_joint                         100.0\n",
              "verification_status_joint         100.0\n",
              "tot_coll_amt                      100.0\n",
              "tot_cur_bal                       100.0\n",
              "open_acc_6m                       100.0\n",
              "open_il_6m                        100.0\n",
              "open_il_12m                       100.0\n",
              "open_il_24m                       100.0\n",
              "mths_since_rcnt_il                100.0\n",
              "total_bal_il                      100.0\n",
              "il_util                           100.0\n",
              "open_rv_12m                       100.0\n",
              "open_rv_24m                       100.0\n",
              "max_bal_bc                        100.0\n",
              "all_util                          100.0\n",
              "total_rev_hi_lim                  100.0\n",
              "inq_fi                            100.0\n",
              "total_cu_tl                       100.0\n",
              "inq_last_12m                      100.0\n",
              "acc_open_past_24mths              100.0\n",
              "avg_cur_bal                       100.0\n",
              "bc_open_to_buy                    100.0\n",
              "bc_util                           100.0\n",
              "mo_sin_old_il_acct                100.0\n",
              "mo_sin_old_rev_tl_op              100.0\n",
              "mo_sin_rcnt_rev_tl_op             100.0\n",
              "mo_sin_rcnt_tl                    100.0\n",
              "mort_acc                          100.0\n",
              "mths_since_recent_bc              100.0\n",
              "mths_since_recent_bc_dlq          100.0\n",
              "mths_since_recent_inq             100.0\n",
              "mths_since_recent_revol_delinq    100.0\n",
              "num_accts_ever_120_pd             100.0\n",
              "num_actv_bc_tl                    100.0\n",
              "num_actv_rev_tl                   100.0\n",
              "num_bc_sats                       100.0\n",
              "num_bc_tl                         100.0\n",
              "num_il_tl                         100.0\n",
              "num_op_rev_tl                     100.0\n",
              "num_rev_accts                     100.0\n",
              "num_rev_tl_bal_gt_0               100.0\n",
              "num_sats                          100.0\n",
              "num_tl_120dpd_2m                  100.0\n",
              "num_tl_30dpd                      100.0\n",
              "num_tl_90g_dpd_24m                100.0\n",
              "num_tl_op_past_12m                100.0\n",
              "pct_tl_nvr_dlq                    100.0\n",
              "percent_bc_gt_75                  100.0\n",
              "tot_hi_cred_lim                   100.0\n",
              "total_bal_ex_mort                 100.0\n",
              "total_bc_limit                    100.0\n",
              "total_il_high_credit_limit        100.0\n",
              "dtype: float64"
            ]
          },
          "metadata": {},
          "execution_count": 6
        }
      ]
    },
    {
      "cell_type": "markdown",
      "source": [
        "Many features have 100% null values; These features mostly regard for candidates' bank account(s) history like number of accounts opened since x months for different types of accounts.\n"
      ],
      "metadata": {
        "id": "GeDBt-GA_J8R"
      }
    },
    {
      "cell_type": "code",
      "source": [
        "#dropping columns whose missing values is 50% or higher\n",
        "\n",
        "df.drop(list(null_per[null_per==100].index),axis=1,inplace=True)\n",
        "print(\"Number of features in dataframe after dropping features with all null values: \", df.columns.shape[0])"
      ],
      "metadata": {
        "colab": {
          "base_uri": "https://localhost:8080/"
        },
        "id": "UGu9fRw0cFT8",
        "outputId": "b62849df-d965-4703-db6a-7fd48063e526"
      },
      "execution_count": null,
      "outputs": [
        {
          "output_type": "stream",
          "name": "stdout",
          "text": [
            "Number of features in dataframe after dropping features with all null values:  57\n"
          ]
        }
      ]
    },
    {
      "cell_type": "markdown",
      "source": [
        "###**Inspect Duplicate records**"
      ],
      "metadata": {
        "id": "g-eYKy1dcq0v"
      }
    },
    {
      "cell_type": "code",
      "source": [
        "df[df.duplicated()]"
      ],
      "metadata": {
        "colab": {
          "base_uri": "https://localhost:8080/",
          "height": 113
        },
        "id": "HFJZ46_ucuZ0",
        "outputId": "d1e490dc-2a0c-4ee5-e871-8b5525c2f498"
      },
      "execution_count": null,
      "outputs": [
        {
          "output_type": "execute_result",
          "data": {
            "text/plain": [
              "Empty DataFrame\n",
              "Columns: [id, member_id, loan_amnt, funded_amnt, funded_amnt_inv, term, int_rate, installment, grade, sub_grade, emp_title, emp_length, home_ownership, annual_inc, verification_status, issue_d, loan_status, pymnt_plan, url, desc, purpose, title, zip_code, addr_state, dti, delinq_2yrs, earliest_cr_line, inq_last_6mths, mths_since_last_delinq, mths_since_last_record, open_acc, pub_rec, revol_bal, revol_util, total_acc, initial_list_status, out_prncp, out_prncp_inv, total_pymnt, total_pymnt_inv, total_rec_prncp, total_rec_int, total_rec_late_fee, recoveries, collection_recovery_fee, last_pymnt_d, last_pymnt_amnt, next_pymnt_d, last_credit_pull_d, collections_12_mths_ex_med, policy_code, application_type, acc_now_delinq, chargeoff_within_12_mths, delinq_amnt, pub_rec_bankruptcies, tax_liens]\n",
              "Index: []"
            ],
            "text/html": [
              "\n",
              "  <div id=\"df-f0560b12-582a-4f8a-bff9-2f9a915e98dd\">\n",
              "    <div class=\"colab-df-container\">\n",
              "      <div>\n",
              "<style scoped>\n",
              "    .dataframe tbody tr th:only-of-type {\n",
              "        vertical-align: middle;\n",
              "    }\n",
              "\n",
              "    .dataframe tbody tr th {\n",
              "        vertical-align: top;\n",
              "    }\n",
              "\n",
              "    .dataframe thead th {\n",
              "        text-align: right;\n",
              "    }\n",
              "</style>\n",
              "<table border=\"1\" class=\"dataframe\">\n",
              "  <thead>\n",
              "    <tr style=\"text-align: right;\">\n",
              "      <th></th>\n",
              "      <th>id</th>\n",
              "      <th>member_id</th>\n",
              "      <th>loan_amnt</th>\n",
              "      <th>funded_amnt</th>\n",
              "      <th>funded_amnt_inv</th>\n",
              "      <th>term</th>\n",
              "      <th>int_rate</th>\n",
              "      <th>installment</th>\n",
              "      <th>grade</th>\n",
              "      <th>sub_grade</th>\n",
              "      <th>emp_title</th>\n",
              "      <th>emp_length</th>\n",
              "      <th>home_ownership</th>\n",
              "      <th>annual_inc</th>\n",
              "      <th>verification_status</th>\n",
              "      <th>issue_d</th>\n",
              "      <th>loan_status</th>\n",
              "      <th>pymnt_plan</th>\n",
              "      <th>url</th>\n",
              "      <th>desc</th>\n",
              "      <th>purpose</th>\n",
              "      <th>title</th>\n",
              "      <th>zip_code</th>\n",
              "      <th>addr_state</th>\n",
              "      <th>dti</th>\n",
              "      <th>delinq_2yrs</th>\n",
              "      <th>earliest_cr_line</th>\n",
              "      <th>inq_last_6mths</th>\n",
              "      <th>mths_since_last_delinq</th>\n",
              "      <th>mths_since_last_record</th>\n",
              "      <th>open_acc</th>\n",
              "      <th>pub_rec</th>\n",
              "      <th>revol_bal</th>\n",
              "      <th>revol_util</th>\n",
              "      <th>total_acc</th>\n",
              "      <th>initial_list_status</th>\n",
              "      <th>out_prncp</th>\n",
              "      <th>out_prncp_inv</th>\n",
              "      <th>total_pymnt</th>\n",
              "      <th>total_pymnt_inv</th>\n",
              "      <th>total_rec_prncp</th>\n",
              "      <th>total_rec_int</th>\n",
              "      <th>total_rec_late_fee</th>\n",
              "      <th>recoveries</th>\n",
              "      <th>collection_recovery_fee</th>\n",
              "      <th>last_pymnt_d</th>\n",
              "      <th>last_pymnt_amnt</th>\n",
              "      <th>next_pymnt_d</th>\n",
              "      <th>last_credit_pull_d</th>\n",
              "      <th>collections_12_mths_ex_med</th>\n",
              "      <th>policy_code</th>\n",
              "      <th>application_type</th>\n",
              "      <th>acc_now_delinq</th>\n",
              "      <th>chargeoff_within_12_mths</th>\n",
              "      <th>delinq_amnt</th>\n",
              "      <th>pub_rec_bankruptcies</th>\n",
              "      <th>tax_liens</th>\n",
              "    </tr>\n",
              "  </thead>\n",
              "  <tbody>\n",
              "  </tbody>\n",
              "</table>\n",
              "</div>\n",
              "      <button class=\"colab-df-convert\" onclick=\"convertToInteractive('df-f0560b12-582a-4f8a-bff9-2f9a915e98dd')\"\n",
              "              title=\"Convert this dataframe to an interactive table.\"\n",
              "              style=\"display:none;\">\n",
              "        \n",
              "  <svg xmlns=\"http://www.w3.org/2000/svg\" height=\"24px\"viewBox=\"0 0 24 24\"\n",
              "       width=\"24px\">\n",
              "    <path d=\"M0 0h24v24H0V0z\" fill=\"none\"/>\n",
              "    <path d=\"M18.56 5.44l.94 2.06.94-2.06 2.06-.94-2.06-.94-.94-2.06-.94 2.06-2.06.94zm-11 1L8.5 8.5l.94-2.06 2.06-.94-2.06-.94L8.5 2.5l-.94 2.06-2.06.94zm10 10l.94 2.06.94-2.06 2.06-.94-2.06-.94-.94-2.06-.94 2.06-2.06.94z\"/><path d=\"M17.41 7.96l-1.37-1.37c-.4-.4-.92-.59-1.43-.59-.52 0-1.04.2-1.43.59L10.3 9.45l-7.72 7.72c-.78.78-.78 2.05 0 2.83L4 21.41c.39.39.9.59 1.41.59.51 0 1.02-.2 1.41-.59l7.78-7.78 2.81-2.81c.8-.78.8-2.07 0-2.86zM5.41 20L4 18.59l7.72-7.72 1.47 1.35L5.41 20z\"/>\n",
              "  </svg>\n",
              "      </button>\n",
              "      \n",
              "  <style>\n",
              "    .colab-df-container {\n",
              "      display:flex;\n",
              "      flex-wrap:wrap;\n",
              "      gap: 12px;\n",
              "    }\n",
              "\n",
              "    .colab-df-convert {\n",
              "      background-color: #E8F0FE;\n",
              "      border: none;\n",
              "      border-radius: 50%;\n",
              "      cursor: pointer;\n",
              "      display: none;\n",
              "      fill: #1967D2;\n",
              "      height: 32px;\n",
              "      padding: 0 0 0 0;\n",
              "      width: 32px;\n",
              "    }\n",
              "\n",
              "    .colab-df-convert:hover {\n",
              "      background-color: #E2EBFA;\n",
              "      box-shadow: 0px 1px 2px rgba(60, 64, 67, 0.3), 0px 1px 3px 1px rgba(60, 64, 67, 0.15);\n",
              "      fill: #174EA6;\n",
              "    }\n",
              "\n",
              "    [theme=dark] .colab-df-convert {\n",
              "      background-color: #3B4455;\n",
              "      fill: #D2E3FC;\n",
              "    }\n",
              "\n",
              "    [theme=dark] .colab-df-convert:hover {\n",
              "      background-color: #434B5C;\n",
              "      box-shadow: 0px 1px 3px 1px rgba(0, 0, 0, 0.15);\n",
              "      filter: drop-shadow(0px 1px 2px rgba(0, 0, 0, 0.3));\n",
              "      fill: #FFFFFF;\n",
              "    }\n",
              "  </style>\n",
              "\n",
              "      <script>\n",
              "        const buttonEl =\n",
              "          document.querySelector('#df-f0560b12-582a-4f8a-bff9-2f9a915e98dd button.colab-df-convert');\n",
              "        buttonEl.style.display =\n",
              "          google.colab.kernel.accessAllowed ? 'block' : 'none';\n",
              "\n",
              "        async function convertToInteractive(key) {\n",
              "          const element = document.querySelector('#df-f0560b12-582a-4f8a-bff9-2f9a915e98dd');\n",
              "          const dataTable =\n",
              "            await google.colab.kernel.invokeFunction('convertToInteractive',\n",
              "                                                     [key], {});\n",
              "          if (!dataTable) return;\n",
              "\n",
              "          const docLinkHtml = 'Like what you see? Visit the ' +\n",
              "            '<a target=\"_blank\" href=https://colab.research.google.com/notebooks/data_table.ipynb>data table notebook</a>'\n",
              "            + ' to learn more about interactive tables.';\n",
              "          element.innerHTML = '';\n",
              "          dataTable['output_type'] = 'display_data';\n",
              "          await google.colab.output.renderOutput(dataTable, element);\n",
              "          const docLink = document.createElement('div');\n",
              "          docLink.innerHTML = docLinkHtml;\n",
              "          element.appendChild(docLink);\n",
              "        }\n",
              "      </script>\n",
              "    </div>\n",
              "  </div>\n",
              "  "
            ]
          },
          "metadata": {},
          "execution_count": 8
        }
      ]
    },
    {
      "cell_type": "markdown",
      "source": [
        "No duplicate records found in the dataset"
      ],
      "metadata": {
        "id": "-5zs1gvac807"
      }
    },
    {
      "cell_type": "markdown",
      "source": [
        "### **Handling unnecessary rows/columns**\n"
      ],
      "metadata": {
        "id": "w_PsvJyznpJH"
      }
    },
    {
      "cell_type": "markdown",
      "source": [
        "Columns like id,member_id are not revelant to the objective, let's drop them.\n",
        "\n",
        "Columns desc,title can be dropped as we have purpose column describing gist of former columns. So let's drop these too.\n",
        "\n",
        "Column zip_code can be dropped as we have state column available.\n",
        "\n",
        "Let's also remove columns which describe data of post loan approval details like recoveries, out_prncp, total_pymt, delinq_2yrs, total_rec_prncp, total_rec_late_fee, total_rec_int, collection_recovery_fee, mths_since_last_delinq, mths_since_last_record, next_pymnt_d. "
      ],
      "metadata": {
        "id": "omj8mZlO-ipf"
      }
    },
    {
      "cell_type": "code",
      "source": [
        "#dropping irrelevant columns\n",
        "drop_col = [\"id\", \"member_id\", \"url\", \"title\", \"emp_title\", \"zip_code\", \"last_credit_pull_d\",\"desc\",\"out_prncp_inv\",\"total_pymnt_inv\",\"funded_amnt\", \"delinq_2yrs\", \"revol_bal\", \"out_prncp\", \"total_pymnt\", \"total_rec_prncp\", \"total_rec_int\", \"total_rec_late_fee\", \"recoveries\", \"collection_recovery_fee\", \"last_pymnt_d\", \"last_pymnt_amnt\", \"next_pymnt_d\" , \"mths_since_last_delinq\", \"mths_since_last_record\"]\n",
        "df.drop(drop_col,axis=1,inplace=True)\n",
        "df.columns.shape"
      ],
      "metadata": {
        "colab": {
          "base_uri": "https://localhost:8080/"
        },
        "id": "fc4MEjuLHhxz",
        "outputId": "0477a90f-0e4c-4654-e4c1-2062b8afb39e"
      },
      "execution_count": null,
      "outputs": [
        {
          "output_type": "execute_result",
          "data": {
            "text/plain": [
              "(32,)"
            ]
          },
          "metadata": {},
          "execution_count": 9
        }
      ]
    },
    {
      "cell_type": "code",
      "source": [
        "for col in df.columns:\n",
        "  print(col,df[col].value_counts(dropna=True).count())"
      ],
      "metadata": {
        "colab": {
          "base_uri": "https://localhost:8080/"
        },
        "id": "cs2cyymQdyR8",
        "outputId": "69638231-7f01-4547-d938-9eebd53fc0f2"
      },
      "execution_count": null,
      "outputs": [
        {
          "output_type": "stream",
          "name": "stdout",
          "text": [
            "loan_amnt 885\n",
            "funded_amnt_inv 8205\n",
            "term 2\n",
            "int_rate 371\n",
            "installment 15383\n",
            "grade 7\n",
            "sub_grade 35\n",
            "emp_length 11\n",
            "home_ownership 5\n",
            "annual_inc 5318\n",
            "verification_status 3\n",
            "issue_d 55\n",
            "loan_status 3\n",
            "pymnt_plan 1\n",
            "purpose 14\n",
            "addr_state 50\n",
            "dti 2868\n",
            "earliest_cr_line 526\n",
            "inq_last_6mths 9\n",
            "open_acc 40\n",
            "pub_rec 5\n",
            "revol_util 1089\n",
            "total_acc 82\n",
            "initial_list_status 1\n",
            "collections_12_mths_ex_med 1\n",
            "policy_code 1\n",
            "application_type 1\n",
            "acc_now_delinq 1\n",
            "chargeoff_within_12_mths 1\n",
            "delinq_amnt 1\n",
            "pub_rec_bankruptcies 3\n",
            "tax_liens 1\n"
          ]
        }
      ]
    },
    {
      "cell_type": "markdown",
      "source": [
        "We have columns with only 1 unique value, which doesn't give much insight, so let's drop them."
      ],
      "metadata": {
        "id": "KciP_qMvB4Qp"
      }
    },
    {
      "cell_type": "code",
      "source": [
        "drop_col = [col for col in df.columns if (df[col].value_counts(dropna=True).count()==1)]\n",
        "print(\"\\nColumns with only 1 unique value: \",drop_col)"
      ],
      "metadata": {
        "colab": {
          "base_uri": "https://localhost:8080/"
        },
        "id": "gDD9FHmFn59B",
        "outputId": "e0ccb717-71d7-4b95-8b4e-0570a5d526af"
      },
      "execution_count": null,
      "outputs": [
        {
          "output_type": "stream",
          "name": "stdout",
          "text": [
            "\n",
            "Columns with only 1 unique value:  ['pymnt_plan', 'initial_list_status', 'collections_12_mths_ex_med', 'policy_code', 'application_type', 'acc_now_delinq', 'chargeoff_within_12_mths', 'delinq_amnt', 'tax_liens']\n"
          ]
        }
      ]
    },
    {
      "cell_type": "code",
      "source": [
        "df.drop(drop_col,axis=1,inplace=True)"
      ],
      "metadata": {
        "id": "KiQOM1JFKv18"
      },
      "execution_count": null,
      "outputs": []
    },
    {
      "cell_type": "code",
      "source": [
        "print(\"Number of features after handling unnecessary columns: \", df.shape[1])"
      ],
      "metadata": {
        "colab": {
          "base_uri": "https://localhost:8080/"
        },
        "id": "a5r-HBCpK9md",
        "outputId": "0122a5f7-7571-4f06-c1e9-0fc707fdba8d"
      },
      "execution_count": null,
      "outputs": [
        {
          "output_type": "stream",
          "name": "stdout",
          "text": [
            "Number of features after handling unnecessary columns:  23\n"
          ]
        }
      ]
    },
    {
      "cell_type": "code",
      "source": [
        "#Let's remove rows of ongoing loans as they are irrelevant to find insights to the business problem\n",
        "df=df[~df['loan_status'].isin(['Current'])]\n",
        "df['loan_status'].value_counts()"
      ],
      "metadata": {
        "colab": {
          "base_uri": "https://localhost:8080/"
        },
        "id": "gFtxctO6PAK6",
        "outputId": "ac149bfd-2c10-453e-fe6f-0b06d1f05d51"
      },
      "execution_count": null,
      "outputs": [
        {
          "output_type": "execute_result",
          "data": {
            "text/plain": [
              "Fully Paid     32950\n",
              "Charged Off     5627\n",
              "Name: loan_status, dtype: int64"
            ]
          },
          "metadata": {},
          "execution_count": 14
        }
      ]
    },
    {
      "cell_type": "markdown",
      "source": [
        "### **Interpreting missing values**\n"
      ],
      "metadata": {
        "id": "iT1O2S_8peaM"
      }
    },
    {
      "cell_type": "code",
      "source": [
        "df.isnull().sum()"
      ],
      "metadata": {
        "colab": {
          "base_uri": "https://localhost:8080/"
        },
        "id": "T52Osl2Fpjr8",
        "outputId": "beafec46-3bee-4aa1-d75e-4c4ca940b108"
      },
      "execution_count": null,
      "outputs": [
        {
          "output_type": "execute_result",
          "data": {
            "text/plain": [
              "loan_amnt                  0\n",
              "funded_amnt_inv            0\n",
              "term                       0\n",
              "int_rate                   0\n",
              "installment                0\n",
              "grade                      0\n",
              "sub_grade                  0\n",
              "emp_length              1033\n",
              "home_ownership             0\n",
              "annual_inc                 0\n",
              "verification_status        0\n",
              "issue_d                    0\n",
              "loan_status                0\n",
              "purpose                    0\n",
              "addr_state                 0\n",
              "dti                        0\n",
              "earliest_cr_line           0\n",
              "inq_last_6mths             0\n",
              "open_acc                   0\n",
              "pub_rec                    0\n",
              "revol_util                50\n",
              "total_acc                  0\n",
              "pub_rec_bankruptcies     697\n",
              "dtype: int64"
            ]
          },
          "metadata": {},
          "execution_count": 15
        }
      ]
    },
    {
      "cell_type": "code",
      "source": [
        "df.isna().any()[lambda x: x].index"
      ],
      "metadata": {
        "colab": {
          "base_uri": "https://localhost:8080/"
        },
        "id": "g6rhk7irqGPi",
        "outputId": "a81be2d5-4c7a-4e51-bf3d-e6da2e189129"
      },
      "execution_count": null,
      "outputs": [
        {
          "output_type": "execute_result",
          "data": {
            "text/plain": [
              "Index(['emp_length', 'revol_util', 'pub_rec_bankruptcies'], dtype='object')"
            ]
          },
          "metadata": {},
          "execution_count": 16
        }
      ]
    },
    {
      "cell_type": "code",
      "source": [
        "df[['emp_length', 'revol_util', 'pub_rec_bankruptcies']].head()"
      ],
      "metadata": {
        "colab": {
          "base_uri": "https://localhost:8080/",
          "height": 206
        },
        "id": "0_ySnj6kqoo7",
        "outputId": "6659e67d-e0a9-4ebf-94ab-72a9a4f309fd"
      },
      "execution_count": null,
      "outputs": [
        {
          "output_type": "execute_result",
          "data": {
            "text/plain": [
              "  emp_length revol_util  pub_rec_bankruptcies\n",
              "0  10+ years     83.70%                   0.0\n",
              "1   < 1 year      9.40%                   0.0\n",
              "2  10+ years     98.50%                   0.0\n",
              "3  10+ years        21%                   0.0\n",
              "5    3 years     28.30%                   0.0"
            ],
            "text/html": [
              "\n",
              "  <div id=\"df-ca9b9b3c-ec72-45ea-bdd1-2bddccda0de9\">\n",
              "    <div class=\"colab-df-container\">\n",
              "      <div>\n",
              "<style scoped>\n",
              "    .dataframe tbody tr th:only-of-type {\n",
              "        vertical-align: middle;\n",
              "    }\n",
              "\n",
              "    .dataframe tbody tr th {\n",
              "        vertical-align: top;\n",
              "    }\n",
              "\n",
              "    .dataframe thead th {\n",
              "        text-align: right;\n",
              "    }\n",
              "</style>\n",
              "<table border=\"1\" class=\"dataframe\">\n",
              "  <thead>\n",
              "    <tr style=\"text-align: right;\">\n",
              "      <th></th>\n",
              "      <th>emp_length</th>\n",
              "      <th>revol_util</th>\n",
              "      <th>pub_rec_bankruptcies</th>\n",
              "    </tr>\n",
              "  </thead>\n",
              "  <tbody>\n",
              "    <tr>\n",
              "      <th>0</th>\n",
              "      <td>10+ years</td>\n",
              "      <td>83.70%</td>\n",
              "      <td>0.0</td>\n",
              "    </tr>\n",
              "    <tr>\n",
              "      <th>1</th>\n",
              "      <td>&lt; 1 year</td>\n",
              "      <td>9.40%</td>\n",
              "      <td>0.0</td>\n",
              "    </tr>\n",
              "    <tr>\n",
              "      <th>2</th>\n",
              "      <td>10+ years</td>\n",
              "      <td>98.50%</td>\n",
              "      <td>0.0</td>\n",
              "    </tr>\n",
              "    <tr>\n",
              "      <th>3</th>\n",
              "      <td>10+ years</td>\n",
              "      <td>21%</td>\n",
              "      <td>0.0</td>\n",
              "    </tr>\n",
              "    <tr>\n",
              "      <th>5</th>\n",
              "      <td>3 years</td>\n",
              "      <td>28.30%</td>\n",
              "      <td>0.0</td>\n",
              "    </tr>\n",
              "  </tbody>\n",
              "</table>\n",
              "</div>\n",
              "      <button class=\"colab-df-convert\" onclick=\"convertToInteractive('df-ca9b9b3c-ec72-45ea-bdd1-2bddccda0de9')\"\n",
              "              title=\"Convert this dataframe to an interactive table.\"\n",
              "              style=\"display:none;\">\n",
              "        \n",
              "  <svg xmlns=\"http://www.w3.org/2000/svg\" height=\"24px\"viewBox=\"0 0 24 24\"\n",
              "       width=\"24px\">\n",
              "    <path d=\"M0 0h24v24H0V0z\" fill=\"none\"/>\n",
              "    <path d=\"M18.56 5.44l.94 2.06.94-2.06 2.06-.94-2.06-.94-.94-2.06-.94 2.06-2.06.94zm-11 1L8.5 8.5l.94-2.06 2.06-.94-2.06-.94L8.5 2.5l-.94 2.06-2.06.94zm10 10l.94 2.06.94-2.06 2.06-.94-2.06-.94-.94-2.06-.94 2.06-2.06.94z\"/><path d=\"M17.41 7.96l-1.37-1.37c-.4-.4-.92-.59-1.43-.59-.52 0-1.04.2-1.43.59L10.3 9.45l-7.72 7.72c-.78.78-.78 2.05 0 2.83L4 21.41c.39.39.9.59 1.41.59.51 0 1.02-.2 1.41-.59l7.78-7.78 2.81-2.81c.8-.78.8-2.07 0-2.86zM5.41 20L4 18.59l7.72-7.72 1.47 1.35L5.41 20z\"/>\n",
              "  </svg>\n",
              "      </button>\n",
              "      \n",
              "  <style>\n",
              "    .colab-df-container {\n",
              "      display:flex;\n",
              "      flex-wrap:wrap;\n",
              "      gap: 12px;\n",
              "    }\n",
              "\n",
              "    .colab-df-convert {\n",
              "      background-color: #E8F0FE;\n",
              "      border: none;\n",
              "      border-radius: 50%;\n",
              "      cursor: pointer;\n",
              "      display: none;\n",
              "      fill: #1967D2;\n",
              "      height: 32px;\n",
              "      padding: 0 0 0 0;\n",
              "      width: 32px;\n",
              "    }\n",
              "\n",
              "    .colab-df-convert:hover {\n",
              "      background-color: #E2EBFA;\n",
              "      box-shadow: 0px 1px 2px rgba(60, 64, 67, 0.3), 0px 1px 3px 1px rgba(60, 64, 67, 0.15);\n",
              "      fill: #174EA6;\n",
              "    }\n",
              "\n",
              "    [theme=dark] .colab-df-convert {\n",
              "      background-color: #3B4455;\n",
              "      fill: #D2E3FC;\n",
              "    }\n",
              "\n",
              "    [theme=dark] .colab-df-convert:hover {\n",
              "      background-color: #434B5C;\n",
              "      box-shadow: 0px 1px 3px 1px rgba(0, 0, 0, 0.15);\n",
              "      filter: drop-shadow(0px 1px 2px rgba(0, 0, 0, 0.3));\n",
              "      fill: #FFFFFF;\n",
              "    }\n",
              "  </style>\n",
              "\n",
              "      <script>\n",
              "        const buttonEl =\n",
              "          document.querySelector('#df-ca9b9b3c-ec72-45ea-bdd1-2bddccda0de9 button.colab-df-convert');\n",
              "        buttonEl.style.display =\n",
              "          google.colab.kernel.accessAllowed ? 'block' : 'none';\n",
              "\n",
              "        async function convertToInteractive(key) {\n",
              "          const element = document.querySelector('#df-ca9b9b3c-ec72-45ea-bdd1-2bddccda0de9');\n",
              "          const dataTable =\n",
              "            await google.colab.kernel.invokeFunction('convertToInteractive',\n",
              "                                                     [key], {});\n",
              "          if (!dataTable) return;\n",
              "\n",
              "          const docLinkHtml = 'Like what you see? Visit the ' +\n",
              "            '<a target=\"_blank\" href=https://colab.research.google.com/notebooks/data_table.ipynb>data table notebook</a>'\n",
              "            + ' to learn more about interactive tables.';\n",
              "          element.innerHTML = '';\n",
              "          dataTable['output_type'] = 'display_data';\n",
              "          await google.colab.output.renderOutput(dataTable, element);\n",
              "          const docLink = document.createElement('div');\n",
              "          docLink.innerHTML = docLinkHtml;\n",
              "          element.appendChild(docLink);\n",
              "        }\n",
              "      </script>\n",
              "    </div>\n",
              "  </div>\n",
              "  "
            ]
          },
          "metadata": {},
          "execution_count": 17
        }
      ]
    },
    {
      "cell_type": "code",
      "source": [
        "df['emp_length'].value_counts(dropna=False)"
      ],
      "metadata": {
        "colab": {
          "base_uri": "https://localhost:8080/"
        },
        "id": "krGpxdV1sHkY",
        "outputId": "e8abfa17-53ce-4512-dd24-82f8e06748b5"
      },
      "execution_count": null,
      "outputs": [
        {
          "output_type": "execute_result",
          "data": {
            "text/plain": [
              "10+ years    8488\n",
              "< 1 year     4508\n",
              "2 years      4291\n",
              "3 years      4012\n",
              "4 years      3342\n",
              "5 years      3194\n",
              "1 year       3169\n",
              "6 years      2168\n",
              "7 years      1711\n",
              "8 years      1435\n",
              "9 years      1226\n",
              "NaN          1033\n",
              "Name: emp_length, dtype: int64"
            ]
          },
          "metadata": {},
          "execution_count": 18
        }
      ]
    },
    {
      "cell_type": "markdown",
      "source": [
        "**Let's analyze the features with missing values against target variable**"
      ],
      "metadata": {
        "id": "-EIwfI-T11Mq"
      }
    },
    {
      "cell_type": "markdown",
      "source": [
        "1. Employment Length (colname = emp_length)"
      ],
      "metadata": {
        "id": "KmlbueEw2Mjd"
      }
    },
    {
      "cell_type": "code",
      "source": [
        "emp_length_missing = df[df['emp_length'].isna()]\n",
        "emp_length_available = df[~df['emp_length'].isna()]\n",
        "\n",
        "print(\"Missing count of emp_length: \",emp_length_missing.shape[0],\" i.e. around\",str(round(emp_length_missing.shape[0]/df.shape[0]*100))+\"%\")\n",
        "print(\"Available count of emp_length: \",emp_length_available.shape[0],\" i.e. around\",str(round(emp_length_available.shape[0]/df.shape[0]*100))+\"%\")"
      ],
      "metadata": {
        "colab": {
          "base_uri": "https://localhost:8080/"
        },
        "id": "oVQJGt0TruPU",
        "outputId": "b0063666-ec60-4f45-ab84-542a967039b4"
      },
      "execution_count": null,
      "outputs": [
        {
          "output_type": "stream",
          "name": "stdout",
          "text": [
            "Missing count of emp_length:  1033  i.e. around 3%\n",
            "Available count of emp_length:  37544  i.e. around 97%\n"
          ]
        }
      ]
    },
    {
      "cell_type": "code",
      "source": [
        "plt.figure(figsize=(15,10))\n",
        "plt.subplot(2,2,1)\n",
        "plt.title(\"Loan status countplot for missing employment length values\\n\")\n",
        "ax=sns.countplot(data=emp_length_missing, hue='loan_status', x='loan_status')\n",
        "for p in ax.patches:\n",
        "    percentage = '{:.2f}%'.format(100 * p.get_height()/len(emp_length_missing))\n",
        "    x = p.get_x() + p.get_width()\n",
        "    y = p.get_height()\n",
        "    ax.annotate(percentage, (x, y), ha='center')\n",
        "\n",
        "plt.subplot(2,2,2)\n",
        "ax = sns.countplot(data=emp_length_available, hue='loan_status', x='loan_status')\n",
        "plt.title(\"Loan status countplot for available employment length values\\n\")\n",
        "for p in ax.patches:\n",
        "    percentage = '{:.2f}%'.format(100 * p.get_height()/len(emp_length_available))\n",
        "    x = p.get_x() + p.get_width()\n",
        "    y = p.get_height()\n",
        "    ax.annotate(percentage, (x, y), ha='center')"
      ],
      "metadata": {
        "colab": {
          "base_uri": "https://localhost:8080/",
          "height": 345
        },
        "id": "IRPFQ9KmtG0a",
        "outputId": "be802ad0-f7c7-4a3b-e512-d068fec744f5"
      },
      "execution_count": null,
      "outputs": [
        {
          "output_type": "display_data",
          "data": {
            "text/plain": [
              "<Figure size 1080x720 with 2 Axes>"
            ],
            "image/png": "[encoded data removed]"
          },
          "metadata": {
            "needs_background": "light"
          }
        }
      ]
    },
    {
      "cell_type": "markdown",
      "source": [
        "Customers whose data has employment length missing in the data has significantly higher chances of defaulting than those whose employment length is present 7-8%\n"
      ],
      "metadata": {
        "id": "RdqbNsj60kOM"
      }
    },
    {
      "cell_type": "markdown",
      "source": [
        "2. public record bankruptcies "
      ],
      "metadata": {
        "id": "l6ILr2h_6JRA"
      }
    },
    {
      "cell_type": "code",
      "source": [
        "pub_rec_bankruptcies_missing = df[df['pub_rec_bankruptcies'].isna()]\n",
        "pub_rec_bankruptcies_available = df[~df['pub_rec_bankruptcies'].isna()]\n",
        "\n",
        "print(\"Missing count of pub_rec_bankruptcies_missing: \",pub_rec_bankruptcies_missing.shape[0],\" i.e. around\",str(round(pub_rec_bankruptcies_missing.shape[0]/df.shape[0]*100))+\"%\")\n",
        "print(\"Available count of pub_rec_bankruptcies_available: \",pub_rec_bankruptcies_available.shape[0],\" i.e. around\",str(round(pub_rec_bankruptcies_available.shape[0]/df.shape[0]*100))+\"%\")"
      ],
      "metadata": {
        "colab": {
          "base_uri": "https://localhost:8080/"
        },
        "outputId": "5b88a0d1-62f0-45e9-c7fc-5b49d488ce9b",
        "id": "j_UQEH-m5Yce"
      },
      "execution_count": null,
      "outputs": [
        {
          "output_type": "stream",
          "name": "stdout",
          "text": [
            "Missing count of pub_rec_bankruptcies_missing:  697  i.e. around 2%\n",
            "Available count of pub_rec_bankruptcies_available:  37880  i.e. around 98%\n"
          ]
        }
      ]
    },
    {
      "cell_type": "code",
      "source": [
        "plt.figure(figsize=(15,10))\n",
        "plt.subplot(2,2,1)\n",
        "plt.title(\"Loan status countplot for missing pub_rec_bankruptcies values\\n\")\n",
        "ax=sns.countplot(data=pub_rec_bankruptcies_missing, hue='loan_status', x='loan_status')\n",
        "for p in ax.patches:\n",
        "    percentage = '{:.2f}%'.format(100 * p.get_height()/len(pub_rec_bankruptcies_missing))\n",
        "    x = p.get_x() + p.get_width()\n",
        "    y = p.get_height()\n",
        "    ax.annotate(percentage, (x, y), ha='center')\n",
        "\n",
        "plt.subplot(2,2,2)\n",
        "ax = sns.countplot(data=pub_rec_bankruptcies_available, hue='loan_status', x='loan_status')\n",
        "plt.title(\"Loan status countplot for available pub_rec_bankruptcies values\\n\")\n",
        "for p in ax.patches:\n",
        "    percentage = '{:.2f}%'.format(100 * p.get_height()/len(pub_rec_bankruptcies_available))\n",
        "    x = p.get_x() + p.get_width()\n",
        "    y = p.get_height()\n",
        "    ax.annotate(percentage, (x, y), ha='center')"
      ],
      "metadata": {
        "colab": {
          "base_uri": "https://localhost:8080/",
          "height": 345
        },
        "outputId": "c929888f-3391-4a29-b574-e51d449d58f8",
        "id": "ifFBDSwd5Ych"
      },
      "execution_count": null,
      "outputs": [
        {
          "output_type": "display_data",
          "data": {
            "text/plain": [
              "<Figure size 1080x720 with 2 Axes>"
            ],
            "image/png": "[encoded data removed]"
          },
          "metadata": {
            "needs_background": "light"
          }
        }
      ]
    },
    {
      "cell_type": "markdown",
      "source": [
        "Missing values of public record bankruptcies  does not impact the defaulting case."
      ],
      "metadata": {
        "id": "GvWqAQlx6YlE"
      }
    },
    {
      "cell_type": "markdown",
      "source": [
        "3. (colname = revol_util)"
      ],
      "metadata": {
        "id": "gLmMTTrSDOIs"
      }
    },
    {
      "cell_type": "code",
      "source": [
        "revol_util_missing = df[df['revol_util'].isna()]\n",
        "revol_util_available = df[~df['revol_util'].isna()]\n",
        "\n",
        "print(\"Missing count of revol_util: \",revol_util_missing.shape[0],\" i.e. around\",str((revol_util_missing.shape[0]/df.shape[0]*100))+\"%\")\n",
        "print(\"Available count of revol_util: \",revol_util_available.shape[0],\" i.e. around\",str((revol_util_available.shape[0]/df.shape[0]*100))+\"%\")"
      ],
      "metadata": {
        "colab": {
          "base_uri": "https://localhost:8080/"
        },
        "outputId": "a513fd41-ec7b-44d1-b033-a2efc7f4d22c",
        "id": "hAY3MIpqDULL"
      },
      "execution_count": null,
      "outputs": [
        {
          "output_type": "stream",
          "name": "stdout",
          "text": [
            "Missing count of revol_util:  50  i.e. around 0.12961090805402184%\n",
            "Available count of revol_util:  38527  i.e. around 99.87038909194598%\n"
          ]
        }
      ]
    },
    {
      "cell_type": "code",
      "source": [
        "plt.figure(figsize=(15,10))\n",
        "plt.subplot(2,2,1)\n",
        "plt.title(\"Loan status countplot for revol_util_missing values\\n\")\n",
        "ax=sns.countplot(data=revol_util_missing, hue='loan_status', x='loan_status')\n",
        "for p in ax.patches:\n",
        "    percentage = '{:.2f}%'.format(100 * p.get_height()/len(revol_util_missing))\n",
        "    x = p.get_x() + p.get_width()\n",
        "    y = p.get_height()\n",
        "    ax.annotate(percentage, (x, y), ha='center')\n",
        "\n",
        "plt.subplot(2,2,2)\n",
        "ax = sns.countplot(data=revol_util_available, hue='loan_status', x='loan_status')\n",
        "plt.title(\"Loan status countplot for revol_util_available values\\n\")\n",
        "for p in ax.patches:\n",
        "    percentage = '{:.2f}%'.format(100 * p.get_height()/len(revol_util_available))\n",
        "    x = p.get_x() + p.get_width()\n",
        "    y = p.get_height()\n",
        "    ax.annotate(percentage, (x, y), ha='center')"
      ],
      "metadata": {
        "colab": {
          "base_uri": "https://localhost:8080/",
          "height": 345
        },
        "outputId": "06878ac8-0630-4e71-9a8e-54ac1d66300d",
        "id": "33JW-g3BCwK6"
      },
      "execution_count": null,
      "outputs": [
        {
          "output_type": "display_data",
          "data": {
            "text/plain": [
              "<Figure size 1080x720 with 2 Axes>"
            ],
            "image/png": "[encoded data removed]"
          },
          "metadata": {
            "needs_background": "light"
          }
        }
      ]
    },
    {
      "cell_type": "markdown",
      "source": [
        "Default is seen higher with missing values of revol_util values, but the missing values is significantly less. "
      ],
      "metadata": {
        "id": "KliWzoDmDj69"
      }
    },
    {
      "cell_type": "markdown",
      "source": [
        "### **Standardizing the values and fixing data types**\n"
      ],
      "metadata": {
        "id": "jYnHbCLVoubv"
      }
    },
    {
      "cell_type": "code",
      "source": [
        "df.head(1)"
      ],
      "metadata": {
        "colab": {
          "base_uri": "https://localhost:8080/",
          "height": 162
        },
        "id": "rCygTYIct76m",
        "outputId": "44f87dfe-7e20-4154-8e4c-3fb37416cb1a"
      },
      "execution_count": null,
      "outputs": [
        {
          "output_type": "execute_result",
          "data": {
            "text/plain": [
              "   loan_amnt  funded_amnt_inv        term int_rate  installment grade  \\\n",
              "0       5000           4975.0   36 months   10.65%       162.87     B   \n",
              "\n",
              "  sub_grade emp_length home_ownership  annual_inc verification_status issue_d  \\\n",
              "0        B2  10+ years           RENT     24000.0            Verified  Dec-11   \n",
              "\n",
              "  loan_status      purpose addr_state    dti earliest_cr_line  inq_last_6mths  \\\n",
              "0  Fully Paid  credit_card         AZ  27.65           Jan-85               1   \n",
              "\n",
              "   open_acc  pub_rec revol_util  total_acc  pub_rec_bankruptcies  \n",
              "0         3        0     83.70%          9                   0.0  "
            ],
            "text/html": [
              "\n",
              "  <div id=\"df-85d940c5-7bee-4083-ba84-7ce8b991579a\">\n",
              "    <div class=\"colab-df-container\">\n",
              "      <div>\n",
              "<style scoped>\n",
              "    .dataframe tbody tr th:only-of-type {\n",
              "        vertical-align: middle;\n",
              "    }\n",
              "\n",
              "    .dataframe tbody tr th {\n",
              "        vertical-align: top;\n",
              "    }\n",
              "\n",
              "    .dataframe thead th {\n",
              "        text-align: right;\n",
              "    }\n",
              "</style>\n",
              "<table border=\"1\" class=\"dataframe\">\n",
              "  <thead>\n",
              "    <tr style=\"text-align: right;\">\n",
              "      <th></th>\n",
              "      <th>loan_amnt</th>\n",
              "      <th>funded_amnt_inv</th>\n",
              "      <th>term</th>\n",
              "      <th>int_rate</th>\n",
              "      <th>installment</th>\n",
              "      <th>grade</th>\n",
              "      <th>sub_grade</th>\n",
              "      <th>emp_length</th>\n",
              "      <th>home_ownership</th>\n",
              "      <th>annual_inc</th>\n",
              "      <th>verification_status</th>\n",
              "      <th>issue_d</th>\n",
              "      <th>loan_status</th>\n",
              "      <th>purpose</th>\n",
              "      <th>addr_state</th>\n",
              "      <th>dti</th>\n",
              "      <th>earliest_cr_line</th>\n",
              "      <th>inq_last_6mths</th>\n",
              "      <th>open_acc</th>\n",
              "      <th>pub_rec</th>\n",
              "      <th>revol_util</th>\n",
              "      <th>total_acc</th>\n",
              "      <th>pub_rec_bankruptcies</th>\n",
              "    </tr>\n",
              "  </thead>\n",
              "  <tbody>\n",
              "    <tr>\n",
              "      <th>0</th>\n",
              "      <td>5000</td>\n",
              "      <td>4975.0</td>\n",
              "      <td>36 months</td>\n",
              "      <td>10.65%</td>\n",
              "      <td>162.87</td>\n",
              "      <td>B</td>\n",
              "      <td>B2</td>\n",
              "      <td>10+ years</td>\n",
              "      <td>RENT</td>\n",
              "      <td>24000.0</td>\n",
              "      <td>Verified</td>\n",
              "      <td>Dec-11</td>\n",
              "      <td>Fully Paid</td>\n",
              "      <td>credit_card</td>\n",
              "      <td>AZ</td>\n",
              "      <td>27.65</td>\n",
              "      <td>Jan-85</td>\n",
              "      <td>1</td>\n",
              "      <td>3</td>\n",
              "      <td>0</td>\n",
              "      <td>83.70%</td>\n",
              "      <td>9</td>\n",
              "      <td>0.0</td>\n",
              "    </tr>\n",
              "  </tbody>\n",
              "</table>\n",
              "</div>\n",
              "      <button class=\"colab-df-convert\" onclick=\"convertToInteractive('df-85d940c5-7bee-4083-ba84-7ce8b991579a')\"\n",
              "              title=\"Convert this dataframe to an interactive table.\"\n",
              "              style=\"display:none;\">\n",
              "        \n",
              "  <svg xmlns=\"http://www.w3.org/2000/svg\" height=\"24px\"viewBox=\"0 0 24 24\"\n",
              "       width=\"24px\">\n",
              "    <path d=\"M0 0h24v24H0V0z\" fill=\"none\"/>\n",
              "    <path d=\"M18.56 5.44l.94 2.06.94-2.06 2.06-.94-2.06-.94-.94-2.06-.94 2.06-2.06.94zm-11 1L8.5 8.5l.94-2.06 2.06-.94-2.06-.94L8.5 2.5l-.94 2.06-2.06.94zm10 10l.94 2.06.94-2.06 2.06-.94-2.06-.94-.94-2.06-.94 2.06-2.06.94z\"/><path d=\"M17.41 7.96l-1.37-1.37c-.4-.4-.92-.59-1.43-.59-.52 0-1.04.2-1.43.59L10.3 9.45l-7.72 7.72c-.78.78-.78 2.05 0 2.83L4 21.41c.39.39.9.59 1.41.59.51 0 1.02-.2 1.41-.59l7.78-7.78 2.81-2.81c.8-.78.8-2.07 0-2.86zM5.41 20L4 18.59l7.72-7.72 1.47 1.35L5.41 20z\"/>\n",
              "  </svg>\n",
              "      </button>\n",
              "      \n",
              "  <style>\n",
              "    .colab-df-container {\n",
              "      display:flex;\n",
              "      flex-wrap:wrap;\n",
              "      gap: 12px;\n",
              "    }\n",
              "\n",
              "    .colab-df-convert {\n",
              "      background-color: #E8F0FE;\n",
              "      border: none;\n",
              "      border-radius: 50%;\n",
              "      cursor: pointer;\n",
              "      display: none;\n",
              "      fill: #1967D2;\n",
              "      height: 32px;\n",
              "      padding: 0 0 0 0;\n",
              "      width: 32px;\n",
              "    }\n",
              "\n",
              "    .colab-df-convert:hover {\n",
              "      background-color: #E2EBFA;\n",
              "      box-shadow: 0px 1px 2px rgba(60, 64, 67, 0.3), 0px 1px 3px 1px rgba(60, 64, 67, 0.15);\n",
              "      fill: #174EA6;\n",
              "    }\n",
              "\n",
              "    [theme=dark] .colab-df-convert {\n",
              "      background-color: #3B4455;\n",
              "      fill: #D2E3FC;\n",
              "    }\n",
              "\n",
              "    [theme=dark] .colab-df-convert:hover {\n",
              "      background-color: #434B5C;\n",
              "      box-shadow: 0px 1px 3px 1px rgba(0, 0, 0, 0.15);\n",
              "      filter: drop-shadow(0px 1px 2px rgba(0, 0, 0, 0.3));\n",
              "      fill: #FFFFFF;\n",
              "    }\n",
              "  </style>\n",
              "\n",
              "      <script>\n",
              "        const buttonEl =\n",
              "          document.querySelector('#df-85d940c5-7bee-4083-ba84-7ce8b991579a button.colab-df-convert');\n",
              "        buttonEl.style.display =\n",
              "          google.colab.kernel.accessAllowed ? 'block' : 'none';\n",
              "\n",
              "        async function convertToInteractive(key) {\n",
              "          const element = document.querySelector('#df-85d940c5-7bee-4083-ba84-7ce8b991579a');\n",
              "          const dataTable =\n",
              "            await google.colab.kernel.invokeFunction('convertToInteractive',\n",
              "                                                     [key], {});\n",
              "          if (!dataTable) return;\n",
              "\n",
              "          const docLinkHtml = 'Like what you see? Visit the ' +\n",
              "            '<a target=\"_blank\" href=https://colab.research.google.com/notebooks/data_table.ipynb>data table notebook</a>'\n",
              "            + ' to learn more about interactive tables.';\n",
              "          element.innerHTML = '';\n",
              "          dataTable['output_type'] = 'display_data';\n",
              "          await google.colab.output.renderOutput(dataTable, element);\n",
              "          const docLink = document.createElement('div');\n",
              "          docLink.innerHTML = docLinkHtml;\n",
              "          element.appendChild(docLink);\n",
              "        }\n",
              "      </script>\n",
              "    </div>\n",
              "  </div>\n",
              "  "
            ]
          },
          "metadata": {},
          "execution_count": 25
        }
      ]
    },
    {
      "cell_type": "code",
      "source": [
        "df['term'] = df['term'].str.strip(\"months\").astype('int')\n",
        "print(df['term'].head(3))"
      ],
      "metadata": {
        "colab": {
          "base_uri": "https://localhost:8080/"
        },
        "id": "WQcWehuzt50x",
        "outputId": "c135a078-2a71-4bff-dd9b-d6be246505b6"
      },
      "execution_count": null,
      "outputs": [
        {
          "output_type": "stream",
          "name": "stdout",
          "text": [
            "0    36\n",
            "1    60\n",
            "2    36\n",
            "Name: term, dtype: int64\n"
          ]
        }
      ]
    },
    {
      "cell_type": "code",
      "source": [
        "df['int_rate'] = df['int_rate'].str.strip(\"%\").astype('float')\n",
        "print(df['int_rate'].head(3))"
      ],
      "metadata": {
        "colab": {
          "base_uri": "https://localhost:8080/"
        },
        "id": "EPBXmTycVRCH",
        "outputId": "b1dacb34-89c3-4f38-92d9-d9993d3e62bf"
      },
      "execution_count": null,
      "outputs": [
        {
          "output_type": "stream",
          "name": "stdout",
          "text": [
            "0    10.65\n",
            "1    15.27\n",
            "2    15.96\n",
            "Name: int_rate, dtype: float64\n"
          ]
        }
      ]
    },
    {
      "cell_type": "code",
      "source": [
        "df['revol_util'] = df['revol_util'].apply(lambda x : x if pd.isna(x) else float(x.strip(\"%\")))\n",
        "print(df['revol_util'].head(3))"
      ],
      "metadata": {
        "colab": {
          "base_uri": "https://localhost:8080/"
        },
        "id": "QSwHP7DxTqaz",
        "outputId": "cec8fec9-e5b8-4821-fccd-a004659fab4f"
      },
      "execution_count": null,
      "outputs": [
        {
          "output_type": "stream",
          "name": "stdout",
          "text": [
            "0    83.7\n",
            "1     9.4\n",
            "2    98.5\n",
            "Name: revol_util, dtype: float64\n"
          ]
        }
      ]
    },
    {
      "cell_type": "code",
      "source": [
        "import datetime as dt\n",
        "df['issue_d'] = df['issue_d'].apply(lambda x: x if pd.isna(x) else dt.datetime.strptime(x,'%b-%y'))\n",
        "df['issue_d'].head(3)"
      ],
      "metadata": {
        "colab": {
          "base_uri": "https://localhost:8080/"
        },
        "id": "5Dqc0dXg_SQm",
        "outputId": "413f762f-43e4-4089-f51e-7fbaa4c96113"
      },
      "execution_count": null,
      "outputs": [
        {
          "output_type": "execute_result",
          "data": {
            "text/plain": [
              "0   2011-12-01\n",
              "1   2011-12-01\n",
              "2   2011-12-01\n",
              "Name: issue_d, dtype: datetime64[ns]"
            ]
          },
          "metadata": {},
          "execution_count": 29
        }
      ]
    },
    {
      "cell_type": "code",
      "source": [
        "df['earliest_cr_line'] = df['earliest_cr_line'].apply(lambda x: x if pd.isna(x) else dt.datetime.strptime(x,'%b-%y'))\n",
        "df['earliest_cr_line'].head(3)"
      ],
      "metadata": {
        "colab": {
          "base_uri": "https://localhost:8080/"
        },
        "id": "Tc2wR4a_7d7G",
        "outputId": "ce2ad46b-856e-4ee9-e92f-9c15e69b41eb"
      },
      "execution_count": null,
      "outputs": [
        {
          "output_type": "execute_result",
          "data": {
            "text/plain": [
              "0   1985-01-01\n",
              "1   1999-04-01\n",
              "2   2001-11-01\n",
              "Name: earliest_cr_line, dtype: datetime64[ns]"
            ]
          },
          "metadata": {},
          "execution_count": 30
        }
      ]
    },
    {
      "cell_type": "markdown",
      "source": [
        "#**Univriate Analysis**"
      ],
      "metadata": {
        "id": "6dejb7k9Ckci"
      }
    },
    {
      "cell_type": "code",
      "source": [
        "plt.figure(figsize=(8,8))\n",
        "sns.heatmap(df.corr(),cmap='PuBu')\n",
        "plt.show()"
      ],
      "metadata": {
        "colab": {
          "base_uri": "https://localhost:8080/",
          "height": 600
        },
        "id": "g9lWzBPbFfJ_",
        "outputId": "bcbf7077-2f96-408d-ad55-d09278a68a2d"
      },
      "execution_count": null,
      "outputs": [
        {
          "output_type": "display_data",
          "data": {
            "text/plain": [
              "<Figure size 576x576 with 2 Axes>"
            ],
            "image/png": "[encoded data removed]"
          },
          "metadata": {
            "needs_background": "light"
          }
        }
      ]
    },
    {
      "cell_type": "markdown",
      "source": [
        "High correlation is found among pub_rec and pub_rec_bankruptcies which are related to public record data, open_acc and total_acc related to number of records, revol_util and int_rate, installment and loan_amount.\n"
      ],
      "metadata": {
        "id": "ezjqlrlSGMPM"
      }
    },
    {
      "cell_type": "code",
      "source": [
        "df.describe(percentiles=[0.25,0.50,0.75,0.90,0.95])"
      ],
      "metadata": {
        "colab": {
          "base_uri": "https://localhost:8080/",
          "height": 427
        },
        "id": "o1MVDgCwdF8H",
        "outputId": "ef553a7a-9c3d-41ca-e9c9-62381d1e2d59"
      },
      "execution_count": null,
      "outputs": [
        {
          "output_type": "execute_result",
          "data": {
            "text/plain": [
              "          loan_amnt  funded_amnt_inv          term      int_rate  \\\n",
              "count  38577.000000     38577.000000  38577.000000  38577.000000   \n",
              "mean   11047.025430     10222.481123     41.898437     11.932219   \n",
              "std     7348.441646      7022.720644     10.333136      3.691327   \n",
              "min      500.000000         0.000000     36.000000      5.420000   \n",
              "25%     5300.000000      5000.000000     36.000000      8.940000   \n",
              "50%     9600.000000      8733.440000     36.000000     11.710000   \n",
              "75%    15000.000000     14000.000000     36.000000     14.380000   \n",
              "90%    21600.000000     19975.000000     60.000000     16.820000   \n",
              "95%    25000.000000     24500.066590     60.000000     18.312000   \n",
              "max    35000.000000     35000.000000     60.000000     24.400000   \n",
              "\n",
              "        installment    annual_inc           dti  inq_last_6mths      open_acc  \\\n",
              "count  38577.000000  3.857700e+04  38577.000000    38577.000000  38577.000000   \n",
              "mean     322.466318  6.877797e+04     13.272727        0.871737      9.275423   \n",
              "std      208.639215  6.421868e+04      6.673044        1.071546      4.401588   \n",
              "min       15.690000  4.000000e+03      0.000000        0.000000      2.000000   \n",
              "25%      165.740000  4.000000e+04      8.130000        0.000000      6.000000   \n",
              "50%      277.860000  5.886800e+04     13.370000        1.000000      9.000000   \n",
              "75%      425.550000  8.200000e+04     18.560000        1.000000     12.000000   \n",
              "90%      620.900000  1.150000e+05     22.290000        2.000000     15.000000   \n",
              "95%      760.820000  1.400040e+05     23.800000        3.000000     17.000000   \n",
              "max     1305.190000  6.000000e+06     29.990000        8.000000     44.000000   \n",
              "\n",
              "            pub_rec    revol_util     total_acc  pub_rec_bankruptcies  \n",
              "count  38577.000000  38527.000000  38577.000000          37880.000000  \n",
              "mean       0.055422     48.702777     22.052648              0.043479  \n",
              "std        0.237804     28.364741     11.425861              0.204583  \n",
              "min        0.000000      0.000000      2.000000              0.000000  \n",
              "25%        0.000000     25.200000     13.000000              0.000000  \n",
              "50%        0.000000     49.100000     20.000000              0.000000  \n",
              "75%        0.000000     72.300000     29.000000              0.000000  \n",
              "90%        0.000000     87.800000     38.000000              0.000000  \n",
              "95%        1.000000     93.570000     43.000000              0.000000  \n",
              "max        4.000000     99.900000     90.000000              2.000000  "
            ],
            "text/html": [
              "\n",
              "  <div id=\"df-7072b253-bad8-421c-bf6d-f562f091df95\">\n",
              "    <div class=\"colab-df-container\">\n",
              "      <div>\n",
              "<style scoped>\n",
              "    .dataframe tbody tr th:only-of-type {\n",
              "        vertical-align: middle;\n",
              "    }\n",
              "\n",
              "    .dataframe tbody tr th {\n",
              "        vertical-align: top;\n",
              "    }\n",
              "\n",
              "    .dataframe thead th {\n",
              "        text-align: right;\n",
              "    }\n",
              "</style>\n",
              "<table border=\"1\" class=\"dataframe\">\n",
              "  <thead>\n",
              "    <tr style=\"text-align: right;\">\n",
              "      <th></th>\n",
              "      <th>loan_amnt</th>\n",
              "      <th>funded_amnt_inv</th>\n",
              "      <th>term</th>\n",
              "      <th>int_rate</th>\n",
              "      <th>installment</th>\n",
              "      <th>annual_inc</th>\n",
              "      <th>dti</th>\n",
              "      <th>inq_last_6mths</th>\n",
              "      <th>open_acc</th>\n",
              "      <th>pub_rec</th>\n",
              "      <th>revol_util</th>\n",
              "      <th>total_acc</th>\n",
              "      <th>pub_rec_bankruptcies</th>\n",
              "    </tr>\n",
              "  </thead>\n",
              "  <tbody>\n",
              "    <tr>\n",
              "      <th>count</th>\n",
              "      <td>38577.000000</td>\n",
              "      <td>38577.000000</td>\n",
              "      <td>38577.000000</td>\n",
              "      <td>38577.000000</td>\n",
              "      <td>38577.000000</td>\n",
              "      <td>3.857700e+04</td>\n",
              "      <td>38577.000000</td>\n",
              "      <td>38577.000000</td>\n",
              "      <td>38577.000000</td>\n",
              "      <td>38577.000000</td>\n",
              "      <td>38527.000000</td>\n",
              "      <td>38577.000000</td>\n",
              "      <td>37880.000000</td>\n",
              "    </tr>\n",
              "    <tr>\n",
              "      <th>mean</th>\n",
              "      <td>11047.025430</td>\n",
              "      <td>10222.481123</td>\n",
              "      <td>41.898437</td>\n",
              "      <td>11.932219</td>\n",
              "      <td>322.466318</td>\n",
              "      <td>6.877797e+04</td>\n",
              "      <td>13.272727</td>\n",
              "      <td>0.871737</td>\n",
              "      <td>9.275423</td>\n",
              "      <td>0.055422</td>\n",
              "      <td>48.702777</td>\n",
              "      <td>22.052648</td>\n",
              "      <td>0.043479</td>\n",
              "    </tr>\n",
              "    <tr>\n",
              "      <th>std</th>\n",
              "      <td>7348.441646</td>\n",
              "      <td>7022.720644</td>\n",
              "      <td>10.333136</td>\n",
              "      <td>3.691327</td>\n",
              "      <td>208.639215</td>\n",
              "      <td>6.421868e+04</td>\n",
              "      <td>6.673044</td>\n",
              "      <td>1.071546</td>\n",
              "      <td>4.401588</td>\n",
              "      <td>0.237804</td>\n",
              "      <td>28.364741</td>\n",
              "      <td>11.425861</td>\n",
              "      <td>0.204583</td>\n",
              "    </tr>\n",
              "    <tr>\n",
              "      <th>min</th>\n",
              "      <td>500.000000</td>\n",
              "      <td>0.000000</td>\n",
              "      <td>36.000000</td>\n",
              "      <td>5.420000</td>\n",
              "      <td>15.690000</td>\n",
              "      <td>4.000000e+03</td>\n",
              "      <td>0.000000</td>\n",
              "      <td>0.000000</td>\n",
              "      <td>2.000000</td>\n",
              "      <td>0.000000</td>\n",
              "      <td>0.000000</td>\n",
              "      <td>2.000000</td>\n",
              "      <td>0.000000</td>\n",
              "    </tr>\n",
              "    <tr>\n",
              "      <th>25%</th>\n",
              "      <td>5300.000000</td>\n",
              "      <td>5000.000000</td>\n",
              "      <td>36.000000</td>\n",
              "      <td>8.940000</td>\n",
              "      <td>165.740000</td>\n",
              "      <td>4.000000e+04</td>\n",
              "      <td>8.130000</td>\n",
              "      <td>0.000000</td>\n",
              "      <td>6.000000</td>\n",
              "      <td>0.000000</td>\n",
              "      <td>25.200000</td>\n",
              "      <td>13.000000</td>\n",
              "      <td>0.000000</td>\n",
              "    </tr>\n",
              "    <tr>\n",
              "      <th>50%</th>\n",
              "      <td>9600.000000</td>\n",
              "      <td>8733.440000</td>\n",
              "      <td>36.000000</td>\n",
              "      <td>11.710000</td>\n",
              "      <td>277.860000</td>\n",
              "      <td>5.886800e+04</td>\n",
              "      <td>13.370000</td>\n",
              "      <td>1.000000</td>\n",
              "      <td>9.000000</td>\n",
              "      <td>0.000000</td>\n",
              "      <td>49.100000</td>\n",
              "      <td>20.000000</td>\n",
              "      <td>0.000000</td>\n",
              "    </tr>\n",
              "    <tr>\n",
              "      <th>75%</th>\n",
              "      <td>15000.000000</td>\n",
              "      <td>14000.000000</td>\n",
              "      <td>36.000000</td>\n",
              "      <td>14.380000</td>\n",
              "      <td>425.550000</td>\n",
              "      <td>8.200000e+04</td>\n",
              "      <td>18.560000</td>\n",
              "      <td>1.000000</td>\n",
              "      <td>12.000000</td>\n",
              "      <td>0.000000</td>\n",
              "      <td>72.300000</td>\n",
              "      <td>29.000000</td>\n",
              "      <td>0.000000</td>\n",
              "    </tr>\n",
              "    <tr>\n",
              "      <th>90%</th>\n",
              "      <td>21600.000000</td>\n",
              "      <td>19975.000000</td>\n",
              "      <td>60.000000</td>\n",
              "      <td>16.820000</td>\n",
              "      <td>620.900000</td>\n",
              "      <td>1.150000e+05</td>\n",
              "      <td>22.290000</td>\n",
              "      <td>2.000000</td>\n",
              "      <td>15.000000</td>\n",
              "      <td>0.000000</td>\n",
              "      <td>87.800000</td>\n",
              "      <td>38.000000</td>\n",
              "      <td>0.000000</td>\n",
              "    </tr>\n",
              "    <tr>\n",
              "      <th>95%</th>\n",
              "      <td>25000.000000</td>\n",
              "      <td>24500.066590</td>\n",
              "      <td>60.000000</td>\n",
              "      <td>18.312000</td>\n",
              "      <td>760.820000</td>\n",
              "      <td>1.400040e+05</td>\n",
              "      <td>23.800000</td>\n",
              "      <td>3.000000</td>\n",
              "      <td>17.000000</td>\n",
              "      <td>1.000000</td>\n",
              "      <td>93.570000</td>\n",
              "      <td>43.000000</td>\n",
              "      <td>0.000000</td>\n",
              "    </tr>\n",
              "    <tr>\n",
              "      <th>max</th>\n",
              "      <td>35000.000000</td>\n",
              "      <td>35000.000000</td>\n",
              "      <td>60.000000</td>\n",
              "      <td>24.400000</td>\n",
              "      <td>1305.190000</td>\n",
              "      <td>6.000000e+06</td>\n",
              "      <td>29.990000</td>\n",
              "      <td>8.000000</td>\n",
              "      <td>44.000000</td>\n",
              "      <td>4.000000</td>\n",
              "      <td>99.900000</td>\n",
              "      <td>90.000000</td>\n",
              "      <td>2.000000</td>\n",
              "    </tr>\n",
              "  </tbody>\n",
              "</table>\n",
              "</div>\n",
              "      <button class=\"colab-df-convert\" onclick=\"convertToInteractive('df-7072b253-bad8-421c-bf6d-f562f091df95')\"\n",
              "              title=\"Convert this dataframe to an interactive table.\"\n",
              "              style=\"display:none;\">\n",
              "        \n",
              "  <svg xmlns=\"http://www.w3.org/2000/svg\" height=\"24px\"viewBox=\"0 0 24 24\"\n",
              "       width=\"24px\">\n",
              "    <path d=\"M0 0h24v24H0V0z\" fill=\"none\"/>\n",
              "    <path d=\"M18.56 5.44l.94 2.06.94-2.06 2.06-.94-2.06-.94-.94-2.06-.94 2.06-2.06.94zm-11 1L8.5 8.5l.94-2.06 2.06-.94-2.06-.94L8.5 2.5l-.94 2.06-2.06.94zm10 10l.94 2.06.94-2.06 2.06-.94-2.06-.94-.94-2.06-.94 2.06-2.06.94z\"/><path d=\"M17.41 7.96l-1.37-1.37c-.4-.4-.92-.59-1.43-.59-.52 0-1.04.2-1.43.59L10.3 9.45l-7.72 7.72c-.78.78-.78 2.05 0 2.83L4 21.41c.39.39.9.59 1.41.59.51 0 1.02-.2 1.41-.59l7.78-7.78 2.81-2.81c.8-.78.8-2.07 0-2.86zM5.41 20L4 18.59l7.72-7.72 1.47 1.35L5.41 20z\"/>\n",
              "  </svg>\n",
              "      </button>\n",
              "      \n",
              "  <style>\n",
              "    .colab-df-container {\n",
              "      display:flex;\n",
              "      flex-wrap:wrap;\n",
              "      gap: 12px;\n",
              "    }\n",
              "\n",
              "    .colab-df-convert {\n",
              "      background-color: #E8F0FE;\n",
              "      border: none;\n",
              "      border-radius: 50%;\n",
              "      cursor: pointer;\n",
              "      display: none;\n",
              "      fill: #1967D2;\n",
              "      height: 32px;\n",
              "      padding: 0 0 0 0;\n",
              "      width: 32px;\n",
              "    }\n",
              "\n",
              "    .colab-df-convert:hover {\n",
              "      background-color: #E2EBFA;\n",
              "      box-shadow: 0px 1px 2px rgba(60, 64, 67, 0.3), 0px 1px 3px 1px rgba(60, 64, 67, 0.15);\n",
              "      fill: #174EA6;\n",
              "    }\n",
              "\n",
              "    [theme=dark] .colab-df-convert {\n",
              "      background-color: #3B4455;\n",
              "      fill: #D2E3FC;\n",
              "    }\n",
              "\n",
              "    [theme=dark] .colab-df-convert:hover {\n",
              "      background-color: #434B5C;\n",
              "      box-shadow: 0px 1px 3px 1px rgba(0, 0, 0, 0.15);\n",
              "      filter: drop-shadow(0px 1px 2px rgba(0, 0, 0, 0.3));\n",
              "      fill: #FFFFFF;\n",
              "    }\n",
              "  </style>\n",
              "\n",
              "      <script>\n",
              "        const buttonEl =\n",
              "          document.querySelector('#df-7072b253-bad8-421c-bf6d-f562f091df95 button.colab-df-convert');\n",
              "        buttonEl.style.display =\n",
              "          google.colab.kernel.accessAllowed ? 'block' : 'none';\n",
              "\n",
              "        async function convertToInteractive(key) {\n",
              "          const element = document.querySelector('#df-7072b253-bad8-421c-bf6d-f562f091df95');\n",
              "          const dataTable =\n",
              "            await google.colab.kernel.invokeFunction('convertToInteractive',\n",
              "                                                     [key], {});\n",
              "          if (!dataTable) return;\n",
              "\n",
              "          const docLinkHtml = 'Like what you see? Visit the ' +\n",
              "            '<a target=\"_blank\" href=https://colab.research.google.com/notebooks/data_table.ipynb>data table notebook</a>'\n",
              "            + ' to learn more about interactive tables.';\n",
              "          element.innerHTML = '';\n",
              "          dataTable['output_type'] = 'display_data';\n",
              "          await google.colab.output.renderOutput(dataTable, element);\n",
              "          const docLink = document.createElement('div');\n",
              "          docLink.innerHTML = docLinkHtml;\n",
              "          element.appendChild(docLink);\n",
              "        }\n",
              "      </script>\n",
              "    </div>\n",
              "  </div>\n",
              "  "
            ]
          },
          "metadata": {},
          "execution_count": 32
        }
      ]
    },
    {
      "cell_type": "markdown",
      "source": [
        "We see outliers in columns such as annual_inc and total_acc."
      ],
      "metadata": {
        "id": "C7qgZyVSNuED"
      }
    },
    {
      "cell_type": "code",
      "source": [
        "import numpy as np\n",
        "df.describe(include=[np.object])"
      ],
      "metadata": {
        "id": "DlY807_SfKkD",
        "outputId": "04c02a4d-ba6f-49e8-811a-ddb0fe87cd6f",
        "colab": {
          "base_uri": "https://localhost:8080/",
          "height": 175
        }
      },
      "execution_count": null,
      "outputs": [
        {
          "output_type": "execute_result",
          "data": {
            "text/plain": [
              "        grade sub_grade emp_length home_ownership verification_status  \\\n",
              "count   38577     38577      37544          38577               38577   \n",
              "unique      7        35         11              5                   3   \n",
              "top         B        A4  10+ years           RENT        Not Verified   \n",
              "freq    11675      2873       8488          18480               16694   \n",
              "\n",
              "       loan_status             purpose addr_state  \n",
              "count        38577               38577      38577  \n",
              "unique           2                  14         50  \n",
              "top     Fully Paid  debt_consolidation         CA  \n",
              "freq         32950               18055       6949  "
            ],
            "text/html": [
              "\n",
              "  <div id=\"df-08d350cc-f0d4-4315-b0d5-89305bf38a34\">\n",
              "    <div class=\"colab-df-container\">\n",
              "      <div>\n",
              "<style scoped>\n",
              "    .dataframe tbody tr th:only-of-type {\n",
              "        vertical-align: middle;\n",
              "    }\n",
              "\n",
              "    .dataframe tbody tr th {\n",
              "        vertical-align: top;\n",
              "    }\n",
              "\n",
              "    .dataframe thead th {\n",
              "        text-align: right;\n",
              "    }\n",
              "</style>\n",
              "<table border=\"1\" class=\"dataframe\">\n",
              "  <thead>\n",
              "    <tr style=\"text-align: right;\">\n",
              "      <th></th>\n",
              "      <th>grade</th>\n",
              "      <th>sub_grade</th>\n",
              "      <th>emp_length</th>\n",
              "      <th>home_ownership</th>\n",
              "      <th>verification_status</th>\n",
              "      <th>loan_status</th>\n",
              "      <th>purpose</th>\n",
              "      <th>addr_state</th>\n",
              "    </tr>\n",
              "  </thead>\n",
              "  <tbody>\n",
              "    <tr>\n",
              "      <th>count</th>\n",
              "      <td>38577</td>\n",
              "      <td>38577</td>\n",
              "      <td>37544</td>\n",
              "      <td>38577</td>\n",
              "      <td>38577</td>\n",
              "      <td>38577</td>\n",
              "      <td>38577</td>\n",
              "      <td>38577</td>\n",
              "    </tr>\n",
              "    <tr>\n",
              "      <th>unique</th>\n",
              "      <td>7</td>\n",
              "      <td>35</td>\n",
              "      <td>11</td>\n",
              "      <td>5</td>\n",
              "      <td>3</td>\n",
              "      <td>2</td>\n",
              "      <td>14</td>\n",
              "      <td>50</td>\n",
              "    </tr>\n",
              "    <tr>\n",
              "      <th>top</th>\n",
              "      <td>B</td>\n",
              "      <td>A4</td>\n",
              "      <td>10+ years</td>\n",
              "      <td>RENT</td>\n",
              "      <td>Not Verified</td>\n",
              "      <td>Fully Paid</td>\n",
              "      <td>debt_consolidation</td>\n",
              "      <td>CA</td>\n",
              "    </tr>\n",
              "    <tr>\n",
              "      <th>freq</th>\n",
              "      <td>11675</td>\n",
              "      <td>2873</td>\n",
              "      <td>8488</td>\n",
              "      <td>18480</td>\n",
              "      <td>16694</td>\n",
              "      <td>32950</td>\n",
              "      <td>18055</td>\n",
              "      <td>6949</td>\n",
              "    </tr>\n",
              "  </tbody>\n",
              "</table>\n",
              "</div>\n",
              "      <button class=\"colab-df-convert\" onclick=\"convertToInteractive('df-08d350cc-f0d4-4315-b0d5-89305bf38a34')\"\n",
              "              title=\"Convert this dataframe to an interactive table.\"\n",
              "              style=\"display:none;\">\n",
              "        \n",
              "  <svg xmlns=\"http://www.w3.org/2000/svg\" height=\"24px\"viewBox=\"0 0 24 24\"\n",
              "       width=\"24px\">\n",
              "    <path d=\"M0 0h24v24H0V0z\" fill=\"none\"/>\n",
              "    <path d=\"M18.56 5.44l.94 2.06.94-2.06 2.06-.94-2.06-.94-.94-2.06-.94 2.06-2.06.94zm-11 1L8.5 8.5l.94-2.06 2.06-.94-2.06-.94L8.5 2.5l-.94 2.06-2.06.94zm10 10l.94 2.06.94-2.06 2.06-.94-2.06-.94-.94-2.06-.94 2.06-2.06.94z\"/><path d=\"M17.41 7.96l-1.37-1.37c-.4-.4-.92-.59-1.43-.59-.52 0-1.04.2-1.43.59L10.3 9.45l-7.72 7.72c-.78.78-.78 2.05 0 2.83L4 21.41c.39.39.9.59 1.41.59.51 0 1.02-.2 1.41-.59l7.78-7.78 2.81-2.81c.8-.78.8-2.07 0-2.86zM5.41 20L4 18.59l7.72-7.72 1.47 1.35L5.41 20z\"/>\n",
              "  </svg>\n",
              "      </button>\n",
              "      \n",
              "  <style>\n",
              "    .colab-df-container {\n",
              "      display:flex;\n",
              "      flex-wrap:wrap;\n",
              "      gap: 12px;\n",
              "    }\n",
              "\n",
              "    .colab-df-convert {\n",
              "      background-color: #E8F0FE;\n",
              "      border: none;\n",
              "      border-radius: 50%;\n",
              "      cursor: pointer;\n",
              "      display: none;\n",
              "      fill: #1967D2;\n",
              "      height: 32px;\n",
              "      padding: 0 0 0 0;\n",
              "      width: 32px;\n",
              "    }\n",
              "\n",
              "    .colab-df-convert:hover {\n",
              "      background-color: #E2EBFA;\n",
              "      box-shadow: 0px 1px 2px rgba(60, 64, 67, 0.3), 0px 1px 3px 1px rgba(60, 64, 67, 0.15);\n",
              "      fill: #174EA6;\n",
              "    }\n",
              "\n",
              "    [theme=dark] .colab-df-convert {\n",
              "      background-color: #3B4455;\n",
              "      fill: #D2E3FC;\n",
              "    }\n",
              "\n",
              "    [theme=dark] .colab-df-convert:hover {\n",
              "      background-color: #434B5C;\n",
              "      box-shadow: 0px 1px 3px 1px rgba(0, 0, 0, 0.15);\n",
              "      filter: drop-shadow(0px 1px 2px rgba(0, 0, 0, 0.3));\n",
              "      fill: #FFFFFF;\n",
              "    }\n",
              "  </style>\n",
              "\n",
              "      <script>\n",
              "        const buttonEl =\n",
              "          document.querySelector('#df-08d350cc-f0d4-4315-b0d5-89305bf38a34 button.colab-df-convert');\n",
              "        buttonEl.style.display =\n",
              "          google.colab.kernel.accessAllowed ? 'block' : 'none';\n",
              "\n",
              "        async function convertToInteractive(key) {\n",
              "          const element = document.querySelector('#df-08d350cc-f0d4-4315-b0d5-89305bf38a34');\n",
              "          const dataTable =\n",
              "            await google.colab.kernel.invokeFunction('convertToInteractive',\n",
              "                                                     [key], {});\n",
              "          if (!dataTable) return;\n",
              "\n",
              "          const docLinkHtml = 'Like what you see? Visit the ' +\n",
              "            '<a target=\"_blank\" href=https://colab.research.google.com/notebooks/data_table.ipynb>data table notebook</a>'\n",
              "            + ' to learn more about interactive tables.';\n",
              "          element.innerHTML = '';\n",
              "          dataTable['output_type'] = 'display_data';\n",
              "          await google.colab.output.renderOutput(dataTable, element);\n",
              "          const docLink = document.createElement('div');\n",
              "          docLink.innerHTML = docLinkHtml;\n",
              "          element.appendChild(docLink);\n",
              "        }\n",
              "      </script>\n",
              "    </div>\n",
              "  </div>\n",
              "  "
            ]
          },
          "metadata": {},
          "execution_count": 33
        }
      ]
    },
    {
      "cell_type": "markdown",
      "source": [
        "**Here, 'top' shows the mode of the feature and 'freq' gives frequency of the mode for that feature.**\n",
        "\n",
        "\n",
        "\n"
      ],
      "metadata": {
        "id": "5F79i_FcOHzH"
      }
    },
    {
      "cell_type": "markdown",
      "source": [
        "##**Analysis of Categorical variables**"
      ],
      "metadata": {
        "id": "JinT8Xb1IarB"
      }
    },
    {
      "cell_type": "code",
      "source": [
        "def normalize_values(col):\n",
        "  print(round(df[col].value_counts(dropna=False,normalize=True)*100,2),\"\\n\")"
      ],
      "metadata": {
        "id": "Q1ZSZGF-Lc9I"
      },
      "execution_count": null,
      "outputs": []
    },
    {
      "cell_type": "code",
      "source": [
        "def univariate_analysis(x,y,aspect_size=1.5):\n",
        "  (df\n",
        "  .groupby(x)[y]\n",
        "  .value_counts(normalize=True)\n",
        "  .mul(100)\n",
        "  .rename('percent')\n",
        "  .reset_index()\n",
        "  .pipe((sns.catplot,'data'), x=x,y='percent',hue=y,kind='bar',aspect=aspect_size).set_xticklabels(rotation=90))"
      ],
      "metadata": {
        "id": "safJEojznF7E"
      },
      "execution_count": null,
      "outputs": []
    },
    {
      "cell_type": "markdown",
      "source": [
        "Let's understand target variable - loan_status"
      ],
      "metadata": {
        "id": "2NHCvDUZoqCD"
      }
    },
    {
      "cell_type": "code",
      "source": [
        "normalize_values('loan_status')\n",
        "df['loan_status'].value_counts(dropna=False).plot(kind='bar')"
      ],
      "metadata": {
        "colab": {
          "base_uri": "https://localhost:8080/",
          "height": 416
        },
        "outputId": "dd21ae8e-31d1-4dd4-8439-bc4ca80b12e8",
        "id": "ec5DVh3daQWk"
      },
      "execution_count": null,
      "outputs": [
        {
          "output_type": "stream",
          "name": "stdout",
          "text": [
            "Fully Paid     85.41\n",
            "Charged Off    14.59\n",
            "Name: loan_status, dtype: float64 \n",
            "\n"
          ]
        },
        {
          "output_type": "execute_result",
          "data": {
            "text/plain": [
              "<matplotlib.axes._subplots.AxesSubplot at 0x7f9875708c90>"
            ]
          },
          "metadata": {},
          "execution_count": 36
        },
        {
          "output_type": "display_data",
          "data": {
            "text/plain": [
              "<Figure size 432x288 with 1 Axes>"
            ],
            "image/png": "[encoded data removed]"
          },
          "metadata": {
            "needs_background": "light"
          }
        }
      ]
    },
    {
      "cell_type": "markdown",
      "source": [
        "Around 85.41% of loans have been fully paid. 14.59% have been defaulted."
      ],
      "metadata": {
        "id": "UUZQKdsNH_41"
      }
    },
    {
      "cell_type": "code",
      "source": [
        "normalize_values('home_ownership')\n",
        "df['home_ownership'].value_counts(dropna=False).plot(kind='bar')"
      ],
      "metadata": {
        "colab": {
          "base_uri": "https://localhost:8080/",
          "height": 467
        },
        "id": "tBhMSCHmZthY",
        "outputId": "02cf49e2-b9d8-4e20-c731-0c80d472171b"
      },
      "execution_count": null,
      "outputs": [
        {
          "output_type": "stream",
          "name": "stdout",
          "text": [
            "RENT        47.90\n",
            "MORTGAGE    44.12\n",
            "OWN          7.71\n",
            "OTHER        0.25\n",
            "NONE         0.01\n",
            "Name: home_ownership, dtype: float64 \n",
            "\n"
          ]
        },
        {
          "output_type": "execute_result",
          "data": {
            "text/plain": [
              "<matplotlib.axes._subplots.AxesSubplot at 0x7f9874f93710>"
            ]
          },
          "metadata": {},
          "execution_count": 37
        },
        {
          "output_type": "display_data",
          "data": {
            "text/plain": [
              "<Figure size 432x288 with 1 Axes>"
            ],
            "image/png": "[encoded data removed]"
          },
          "metadata": {
            "needs_background": "light"
          }
        }
      ]
    },
    {
      "cell_type": "markdown",
      "source": [
        "Majority of customers i.e. more than 90% are either Renting house or are on mortage."
      ],
      "metadata": {
        "id": "MtxoAg0PICC8"
      }
    },
    {
      "cell_type": "code",
      "source": [
        "univariate_analysis('home_ownership','loan_status')"
      ],
      "metadata": {
        "colab": {
          "base_uri": "https://localhost:8080/",
          "height": 422
        },
        "id": "WxQ-OX7Ak5_0",
        "outputId": "671a254f-ee6b-4ac0-a1b6-6a8ee4627908"
      },
      "execution_count": null,
      "outputs": [
        {
          "output_type": "display_data",
          "data": {
            "text/plain": [
              "<Figure size 646.35x360 with 1 Axes>"
            ],
            "image/png": "[encoded data removed]"
          },
          "metadata": {
            "needs_background": "light"
          }
        }
      ]
    },
    {
      "cell_type": "markdown",
      "source": [
        "Higher default risk when home_ownership type is 'Other'."
      ],
      "metadata": {
        "id": "b3jGN8IDmKkT"
      }
    },
    {
      "cell_type": "code",
      "source": [
        "normalize_values('verification_status')\n",
        "df['verification_status'].value_counts(dropna=False).plot(kind='bar')"
      ],
      "metadata": {
        "colab": {
          "base_uri": "https://localhost:8080/",
          "height": 451
        },
        "id": "2xZa4YwuaEJK",
        "outputId": "84cfd5e8-1e28-481e-887a-4f76dcd2785c"
      },
      "execution_count": null,
      "outputs": [
        {
          "output_type": "stream",
          "name": "stdout",
          "text": [
            "Not Verified       43.27\n",
            "Verified           31.64\n",
            "Source Verified    25.08\n",
            "Name: verification_status, dtype: float64 \n",
            "\n"
          ]
        },
        {
          "output_type": "execute_result",
          "data": {
            "text/plain": [
              "<matplotlib.axes._subplots.AxesSubplot at 0x7f98753f58d0>"
            ]
          },
          "metadata": {},
          "execution_count": 39
        },
        {
          "output_type": "display_data",
          "data": {
            "text/plain": [
              "<Figure size 432x288 with 1 Axes>"
            ],
            "image/png": "[encoded data removed]"
          },
          "metadata": {
            "needs_background": "light"
          }
        }
      ]
    },
    {
      "cell_type": "markdown",
      "source": [
        "Background check of around 42.6% of loan applicants' has not been done. "
      ],
      "metadata": {
        "id": "ngaFuYMXHrc5"
      }
    },
    {
      "cell_type": "code",
      "source": [
        "univariate_analysis('verification_status','loan_status')"
      ],
      "metadata": {
        "colab": {
          "base_uri": "https://localhost:8080/",
          "height": 443
        },
        "id": "B0iMXNV1oAzK",
        "outputId": "6b35c682-f601-4d45-827d-52c918f593c1"
      },
      "execution_count": null,
      "outputs": [
        {
          "output_type": "display_data",
          "data": {
            "text/plain": [
              "<Figure size 646.35x360 with 1 Axes>"
            ],
            "image/png": "[encoded data removed]"
          },
          "metadata": {
            "needs_background": "light"
          }
        }
      ]
    },
    {
      "cell_type": "markdown",
      "source": [
        "Contradictory to belief, here the Verified applicants tend to default more. Extra care should be taken in the verfication process."
      ],
      "metadata": {
        "id": "Eo2d-i0yoFfc"
      }
    },
    {
      "cell_type": "code",
      "source": [
        "normalize_values('purpose')\n",
        "df['purpose'].value_counts(dropna=False).plot(kind='bar')"
      ],
      "metadata": {
        "colab": {
          "base_uri": "https://localhost:8080/",
          "height": 679
        },
        "id": "Hx26vxcvH41q",
        "outputId": "dfc4a3e6-e726-42ae-e7ef-d188f879ebbb"
      },
      "execution_count": null,
      "outputs": [
        {
          "output_type": "stream",
          "name": "stdout",
          "text": [
            "debt_consolidation    46.80\n",
            "credit_card           13.03\n",
            "other                 10.02\n",
            "home_improvement       7.45\n",
            "major_purchase         5.57\n",
            "small_business         4.55\n",
            "car                    3.89\n",
            "wedding                2.40\n",
            "medical                1.77\n",
            "moving                 1.49\n",
            "vacation               0.97\n",
            "house                  0.95\n",
            "educational            0.84\n",
            "renewable_energy       0.26\n",
            "Name: purpose, dtype: float64 \n",
            "\n"
          ]
        },
        {
          "output_type": "execute_result",
          "data": {
            "text/plain": [
              "<matplotlib.axes._subplots.AxesSubplot at 0x7f98752f32d0>"
            ]
          },
          "metadata": {},
          "execution_count": 41
        },
        {
          "output_type": "display_data",
          "data": {
            "text/plain": [
              "<Figure size 432x288 with 1 Axes>"
            ],
            "image/png": "[encoded data removed]"
          },
          "metadata": {
            "needs_background": "light"
          }
        }
      ]
    },
    {
      "cell_type": "markdown",
      "source": [
        "Around 46% of customers are applying for loan for debt_consolidation."
      ],
      "metadata": {
        "id": "GNG3ARm2Gyt2"
      }
    },
    {
      "cell_type": "code",
      "source": [
        "univariate_analysis('purpose','loan_status')"
      ],
      "metadata": {
        "colab": {
          "base_uri": "https://localhost:8080/",
          "height": 470
        },
        "outputId": "94cfb6cd-d299-48c3-8fd0-077b4f8ccf2c",
        "id": "PTs7DXVPo80W"
      },
      "execution_count": null,
      "outputs": [
        {
          "output_type": "display_data",
          "data": {
            "text/plain": [
              "<Figure size 646.35x360 with 1 Axes>"
            ],
            "image/png": "[encoded data removed]"
          },
          "metadata": {
            "needs_background": "light"
          }
        }
      ]
    },
    {
      "cell_type": "markdown",
      "source": [
        "Loans with purpose of Small business, renewable energy or educational have higher default chances than other purposes. But by significance, loans for small business should be considered carefully. "
      ],
      "metadata": {
        "id": "tL7G297brx6G"
      }
    },
    {
      "cell_type": "code",
      "source": [
        "normalize_values('emp_length')\n",
        "df['emp_length'].value_counts(dropna=False).plot(kind='bar')"
      ],
      "metadata": {
        "colab": {
          "base_uri": "https://localhost:8080/",
          "height": 589
        },
        "id": "kctjcNhj59sz",
        "outputId": "37f0c7c7-55b9-4dc4-d713-1fef2e406ae7"
      },
      "execution_count": null,
      "outputs": [
        {
          "output_type": "stream",
          "name": "stdout",
          "text": [
            "10+ years    22.00\n",
            "< 1 year     11.69\n",
            "2 years      11.12\n",
            "3 years      10.40\n",
            "4 years       8.66\n",
            "5 years       8.28\n",
            "1 year        8.21\n",
            "6 years       5.62\n",
            "7 years       4.44\n",
            "8 years       3.72\n",
            "9 years       3.18\n",
            "NaN           2.68\n",
            "Name: emp_length, dtype: float64 \n",
            "\n"
          ]
        },
        {
          "output_type": "execute_result",
          "data": {
            "text/plain": [
              "<matplotlib.axes._subplots.AxesSubplot at 0x7f98752f6190>"
            ]
          },
          "metadata": {},
          "execution_count": 43
        },
        {
          "output_type": "display_data",
          "data": {
            "text/plain": [
              "<Figure size 432x288 with 1 Axes>"
            ],
            "image/png": "[encoded data removed]"
          },
          "metadata": {
            "needs_background": "light"
          }
        }
      ]
    },
    {
      "cell_type": "markdown",
      "source": [
        "Majority of the customers have been employed for 10+years."
      ],
      "metadata": {
        "id": "9B3Ld3uz6DdS"
      }
    },
    {
      "cell_type": "code",
      "source": [
        "univariate_analysis('emp_length','loan_status',2)"
      ],
      "metadata": {
        "colab": {
          "base_uri": "https://localhost:8080/",
          "height": 416
        },
        "id": "WSuBXiMZ6O4h",
        "outputId": "c8bfba84-c349-4793-fd9d-07a15500d88b"
      },
      "execution_count": null,
      "outputs": [
        {
          "output_type": "display_data",
          "data": {
            "text/plain": [
              "<Figure size 826.35x360 with 1 Axes>"
            ],
            "image/png": "[encoded data removed]"
          },
          "metadata": {
            "needs_background": "light"
          }
        }
      ]
    },
    {
      "cell_type": "markdown",
      "source": [
        "No significant tell from the plot, but customers who have been employed for 10+ years seem to have defaulted sightly higher than the rest."
      ],
      "metadata": {
        "id": "AOFucJVK6X35"
      }
    },
    {
      "cell_type": "code",
      "source": [
        "normalize_values('grade')\n",
        "df['grade'].value_counts(dropna=False).plot(kind='bar')"
      ],
      "metadata": {
        "colab": {
          "base_uri": "https://localhost:8080/",
          "height": 448
        },
        "id": "bqEjYrpYAZP8",
        "outputId": "92f033a6-9674-43fe-c7d0-79a0c9e84951"
      },
      "execution_count": null,
      "outputs": [
        {
          "output_type": "stream",
          "name": "stdout",
          "text": [
            "B    30.26\n",
            "A    26.04\n",
            "C    20.31\n",
            "D    13.18\n",
            "E     6.90\n",
            "F     2.53\n",
            "G     0.78\n",
            "Name: grade, dtype: float64 \n",
            "\n"
          ]
        },
        {
          "output_type": "execute_result",
          "data": {
            "text/plain": [
              "<matplotlib.axes._subplots.AxesSubplot at 0x7f98754f4ad0>"
            ]
          },
          "metadata": {},
          "execution_count": 45
        },
        {
          "output_type": "display_data",
          "data": {
            "text/plain": [
              "<Figure size 432x288 with 1 Axes>"
            ],
            "image/png": "[encoded data removed]"
          },
          "metadata": {
            "needs_background": "light"
          }
        }
      ]
    },
    {
      "cell_type": "markdown",
      "source": [
        "Majority of the loans are high graded."
      ],
      "metadata": {
        "id": "HVp45MdBMTy1"
      }
    },
    {
      "cell_type": "code",
      "source": [
        "univariate_analysis('grade','loan_status')"
      ],
      "metadata": {
        "colab": {
          "base_uri": "https://localhost:8080/",
          "height": 368
        },
        "outputId": "18c01f0d-4282-4cb4-dfc4-ae8ca8f087c9",
        "id": "DKiiimhlsX6M"
      },
      "execution_count": null,
      "outputs": [
        {
          "output_type": "display_data",
          "data": {
            "text/plain": [
              "<Figure size 646.35x360 with 1 Axes>"
            ],
            "image/png": "[encoded data removed]"
          },
          "metadata": {
            "needs_background": "light"
          }
        }
      ]
    },
    {
      "cell_type": "markdown",
      "source": [
        "Loans having grade E,F or G tend to default at higher rate."
      ],
      "metadata": {
        "id": "ONS-kJcPsday"
      }
    },
    {
      "cell_type": "code",
      "source": [
        "normalize_values('sub_grade')\n",
        "plt.figure(figsize=(10,8))\n",
        "df['sub_grade'].value_counts(dropna=False).plot(kind='bar')"
      ],
      "metadata": {
        "colab": {
          "base_uri": "https://localhost:8080/",
          "height": 1000
        },
        "id": "WofM8MN-2TK5",
        "outputId": "77f0ab9b-0df7-4082-fff3-4c2526123983"
      },
      "execution_count": null,
      "outputs": [
        {
          "output_type": "stream",
          "name": "stdout",
          "text": [
            "A4    7.45\n",
            "B3    7.32\n",
            "A5    7.04\n",
            "B5    6.78\n",
            "B4    6.32\n",
            "C1    5.33\n",
            "B2    5.19\n",
            "C2    5.01\n",
            "A3    4.69\n",
            "B1    4.66\n",
            "A2    3.91\n",
            "C3    3.86\n",
            "D2    3.33\n",
            "C4    3.13\n",
            "C5    2.99\n",
            "A1    2.95\n",
            "D3    2.89\n",
            "D1    2.41\n",
            "D4    2.38\n",
            "D5    2.16\n",
            "E1    1.87\n",
            "E2    1.59\n",
            "E3    1.34\n",
            "E4    1.10\n",
            "E5    1.00\n",
            "F1    0.79\n",
            "F2    0.60\n",
            "F3    0.45\n",
            "F4    0.39\n",
            "F5    0.29\n",
            "G1    0.24\n",
            "G2    0.20\n",
            "G4    0.14\n",
            "G3    0.12\n",
            "G5    0.08\n",
            "Name: sub_grade, dtype: float64 \n",
            "\n"
          ]
        },
        {
          "output_type": "execute_result",
          "data": {
            "text/plain": [
              "<matplotlib.axes._subplots.AxesSubplot at 0x7f9875651250>"
            ]
          },
          "metadata": {},
          "execution_count": 47
        },
        {
          "output_type": "display_data",
          "data": {
            "text/plain": [
              "<Figure size 720x576 with 1 Axes>"
            ],
            "image/png": "[encoded data removed]"
          },
          "metadata": {
            "needs_background": "light"
          }
        }
      ]
    },
    {
      "cell_type": "markdown",
      "source": [
        "Majority of loans are of higher grade i.e. A,B or C"
      ],
      "metadata": {
        "id": "qe2Bpzc92YPt"
      }
    },
    {
      "cell_type": "code",
      "source": [
        "univariate_analysis('sub_grade','loan_status',2)"
      ],
      "metadata": {
        "colab": {
          "base_uri": "https://localhost:8080/",
          "height": 375
        },
        "id": "EdFwzA735lr-",
        "outputId": "5c3f6042-74f0-4838-daff-9f32ee3f917e"
      },
      "execution_count": null,
      "outputs": [
        {
          "output_type": "display_data",
          "data": {
            "text/plain": [
              "<Figure size 826.35x360 with 1 Axes>"
            ],
            "image/png": "[encoded data removed]"
          },
          "metadata": {
            "needs_background": "light"
          }
        }
      ]
    },
    {
      "cell_type": "markdown",
      "source": [
        "As grade increases, default chances also increase. Need to careful with loans graded with F5,G3,G5."
      ],
      "metadata": {
        "id": "Ug4qXDaO2qWN"
      }
    },
    {
      "cell_type": "code",
      "source": [
        "normalize_values('addr_state')\n",
        "plt.figure(figsize=(15,8))\n",
        "df['addr_state'].value_counts(dropna=False).plot(kind='bar')"
      ],
      "metadata": {
        "colab": {
          "base_uri": "https://localhost:8080/",
          "height": 1000
        },
        "outputId": "2303d9d2-0cad-4987-f522-aaaabc9e41d7",
        "id": "rqOWF-g_wqyp"
      },
      "execution_count": null,
      "outputs": [
        {
          "output_type": "stream",
          "name": "stdout",
          "text": [
            "CA    18.01\n",
            "NY     9.59\n",
            "FL     7.21\n",
            "TX     6.89\n",
            "NJ     4.64\n",
            "IL     3.83\n",
            "PA     3.81\n",
            "VA     3.55\n",
            "GA     3.52\n",
            "MA     3.36\n",
            "OH     3.05\n",
            "MD     2.65\n",
            "AZ     2.20\n",
            "WA     2.12\n",
            "CO     1.99\n",
            "NC     1.94\n",
            "CT     1.88\n",
            "MI     1.82\n",
            "MO     1.74\n",
            "MN     1.57\n",
            "NV     1.24\n",
            "SC     1.19\n",
            "WI     1.14\n",
            "AL     1.13\n",
            "OR     1.13\n",
            "LA     1.11\n",
            "KY     0.81\n",
            "OK     0.74\n",
            "KS     0.66\n",
            "UT     0.65\n",
            "AR     0.61\n",
            "DC     0.55\n",
            "RI     0.50\n",
            "NM     0.47\n",
            "WV     0.45\n",
            "NH     0.43\n",
            "HI     0.43\n",
            "DE     0.29\n",
            "MT     0.22\n",
            "WY     0.21\n",
            "AK     0.20\n",
            "SD     0.16\n",
            "VT     0.14\n",
            "MS     0.05\n",
            "TN     0.04\n",
            "IN     0.02\n",
            "ID     0.02\n",
            "IA     0.01\n",
            "NE     0.01\n",
            "ME     0.01\n",
            "Name: addr_state, dtype: float64 \n",
            "\n"
          ]
        },
        {
          "output_type": "execute_result",
          "data": {
            "text/plain": [
              "<matplotlib.axes._subplots.AxesSubplot at 0x7f9874dc0d10>"
            ]
          },
          "metadata": {},
          "execution_count": 49
        },
        {
          "output_type": "display_data",
          "data": {
            "text/plain": [
              "<Figure size 1080x576 with 1 Axes>"
            ],
            "image/png": "[encoded data removed]"
          },
          "metadata": {
            "needs_background": "light"
          }
        }
      ]
    },
    {
      "cell_type": "markdown",
      "source": [
        "State 'CA' has higher customers compared to other states."
      ],
      "metadata": {
        "id": "Wqdb6Y7w1td1"
      }
    },
    {
      "cell_type": "code",
      "source": [
        "univariate_analysis('addr_state','loan_status',3)"
      ],
      "metadata": {
        "colab": {
          "base_uri": "https://localhost:8080/",
          "height": 378
        },
        "id": "9GTD29KVuLzJ",
        "outputId": "a40d32cd-4b5d-4d0e-a672-b551d0ff7e9f"
      },
      "execution_count": null,
      "outputs": [
        {
          "output_type": "display_data",
          "data": {
            "text/plain": [
              "<Figure size 1186.35x360 with 1 Axes>"
            ],
            "image/png": "[encoded data removed]"
          },
          "metadata": {
            "needs_background": "light"
          }
        }
      ]
    },
    {
      "cell_type": "markdown",
      "source": [
        "**State 'NE' loans are very suspicious. It's default ratio(60%) is higher than fully-paid ratio(40%).**"
      ],
      "metadata": {
        "id": "lhBFSqCYvz6d"
      }
    },
    {
      "cell_type": "markdown",
      "source": [
        "No defaults from IA,IN and ME"
      ],
      "metadata": {
        "id": "_V_8ncPfgcsd"
      }
    },
    {
      "cell_type": "code",
      "source": [
        "normalize_values('pub_rec_bankruptcies')\n",
        "df['pub_rec_bankruptcies'].value_counts(dropna=False).plot(kind='bar')"
      ],
      "metadata": {
        "colab": {
          "base_uri": "https://localhost:8080/",
          "height": 407
        },
        "id": "1gs09NhZ7P2X",
        "outputId": "4230f894-eb34-490f-c8e3-c03538797c26"
      },
      "execution_count": null,
      "outputs": [
        {
          "output_type": "stream",
          "name": "stdout",
          "text": [
            "0.0    93.94\n",
            "1.0     4.24\n",
            "NaN     1.81\n",
            "2.0     0.01\n",
            "Name: pub_rec_bankruptcies, dtype: float64 \n",
            "\n"
          ]
        },
        {
          "output_type": "execute_result",
          "data": {
            "text/plain": [
              "<matplotlib.axes._subplots.AxesSubplot at 0x7f9874dc7810>"
            ]
          },
          "metadata": {},
          "execution_count": 51
        },
        {
          "output_type": "display_data",
          "data": {
            "text/plain": [
              "<Figure size 432x288 with 1 Axes>"
            ],
            "image/png": "[encoded data removed]"
          },
          "metadata": {
            "needs_background": "light"
          }
        }
      ]
    },
    {
      "cell_type": "markdown",
      "source": [
        "Most of the customers have 0 Number of public record bankruptcies"
      ],
      "metadata": {
        "id": "17gM-JQH7bq6"
      }
    },
    {
      "cell_type": "code",
      "source": [
        "univariate_analysis('pub_rec_bankruptcies','loan_status')"
      ],
      "metadata": {
        "colab": {
          "base_uri": "https://localhost:8080/",
          "height": 377
        },
        "id": "_ZILid6l7bWU",
        "outputId": "02736c02-744b-4f06-95ca-45f4a8dfbd77"
      },
      "execution_count": null,
      "outputs": [
        {
          "output_type": "display_data",
          "data": {
            "text/plain": [
              "<Figure size 646.35x360 with 1 Axes>"
            ],
            "image/png": "[encoded data removed]"
          },
          "metadata": {
            "needs_background": "light"
          }
        }
      ]
    },
    {
      "cell_type": "markdown",
      "source": [
        "Higher the number of public record bankruptcies, higher chances of loan getting defaulted."
      ],
      "metadata": {
        "id": "9ODHTBcy7p0C"
      }
    },
    {
      "cell_type": "code",
      "source": [
        "normalize_values('term')\n",
        "df['term'].value_counts(dropna=False).plot(kind='bar')"
      ],
      "metadata": {
        "colab": {
          "base_uri": "https://localhost:8080/",
          "height": 363
        },
        "outputId": "c3c15453-c664-436f-b548-876002bf2ede",
        "id": "iTLaXaW_RJAI"
      },
      "execution_count": null,
      "outputs": [
        {
          "output_type": "stream",
          "name": "stdout",
          "text": [
            "36    75.42\n",
            "60    24.58\n",
            "Name: term, dtype: float64 \n",
            "\n"
          ]
        },
        {
          "output_type": "execute_result",
          "data": {
            "text/plain": [
              "<matplotlib.axes._subplots.AxesSubplot at 0x7f987227e790>"
            ]
          },
          "metadata": {},
          "execution_count": 53
        },
        {
          "output_type": "display_data",
          "data": {
            "text/plain": [
              "<Figure size 432x288 with 1 Axes>"
            ],
            "image/png": "[encoded data removed]"
          },
          "metadata": {
            "needs_background": "light"
          }
        }
      ]
    },
    {
      "cell_type": "code",
      "source": [
        "univariate_analysis('term','loan_status')"
      ],
      "metadata": {
        "colab": {
          "base_uri": "https://localhost:8080/",
          "height": 373
        },
        "id": "NcpM1bvXRNOA",
        "outputId": "9ce217a9-c273-4069-c155-0e1595edd3a3"
      },
      "execution_count": null,
      "outputs": [
        {
          "output_type": "display_data",
          "data": {
            "text/plain": [
              "<Figure size 646.35x360 with 1 Axes>"
            ],
            "image/png": "[encoded data removed]"
          },
          "metadata": {
            "needs_background": "light"
          }
        }
      ]
    },
    {
      "cell_type": "markdown",
      "source": [
        "Significantly higher chance of defaulting with term loan of 60 months than 36 months. "
      ],
      "metadata": {
        "id": "1co-UKwmRQFW"
      }
    },
    {
      "cell_type": "markdown",
      "source": [
        "##**Analysis of Continous variables**"
      ],
      "metadata": {
        "id": "Qrt5MIhR2EHs"
      }
    },
    {
      "cell_type": "code",
      "source": [
        "print(df[\"annual_inc\"].describe())\n",
        "plt.figure(figsize=(15,5))\n",
        "plt.boxplot(df[\"annual_inc\"],vert=False)\n",
        "plt.show()"
      ],
      "metadata": {
        "colab": {
          "base_uri": "https://localhost:8080/",
          "height": 499
        },
        "id": "aJpJMkhbLYo6",
        "outputId": "4f8e7aeb-fbce-4cbe-9626-087a79dec56b"
      },
      "execution_count": null,
      "outputs": [
        {
          "output_type": "stream",
          "name": "stdout",
          "text": [
            "count    3.857700e+04\n",
            "mean     6.877797e+04\n",
            "std      6.421868e+04\n",
            "min      4.000000e+03\n",
            "25%      4.000000e+04\n",
            "50%      5.886800e+04\n",
            "75%      8.200000e+04\n",
            "max      6.000000e+06\n",
            "Name: annual_inc, dtype: float64\n"
          ]
        },
        {
          "output_type": "display_data",
          "data": {
            "text/plain": [
              "<Figure size 1080x360 with 1 Axes>"
            ],
            "image/png": "[encoded data removed]"
          },
          "metadata": {
            "needs_background": "light"
          }
        }
      ]
    },
    {
      "cell_type": "markdown",
      "source": [
        "There are few outliers in annual income feature at 39L and 60L. Same is evident from mean and median comparison. "
      ],
      "metadata": {
        "id": "hlWzf87qMfvC"
      }
    },
    {
      "cell_type": "code",
      "source": [
        "#bins are created keeping the feature statistics in mind\n",
        "bins = [0,40000,55000,80000,150000,6000000]\n",
        "slot = ['Lowest','Low','Medium','High','Highest']\n",
        "\n",
        "df['annual_inc_range']=pd.cut(df['annual_inc'],bins,labels=slot)"
      ],
      "metadata": {
        "id": "9TlMjFtHOSNt"
      },
      "execution_count": null,
      "outputs": []
    },
    {
      "cell_type": "code",
      "source": [
        "univariate_analysis('annual_inc_range','loan_status')"
      ],
      "metadata": {
        "colab": {
          "base_uri": "https://localhost:8080/",
          "height": 403
        },
        "id": "pArzRtZ_PEpO",
        "outputId": "1c754549-2426-4f86-bd53-bcbf487605d5"
      },
      "execution_count": null,
      "outputs": [
        {
          "output_type": "display_data",
          "data": {
            "text/plain": [
              "<Figure size 646.35x360 with 1 Axes>"
            ],
            "image/png": "[encoded data removed]"
          },
          "metadata": {
            "needs_background": "light"
          }
        }
      ]
    },
    {
      "cell_type": "markdown",
      "source": [
        "It's clear from the plot that lower range of annual income employees tend to default more than medium range and medium more than high income employess."
      ],
      "metadata": {
        "id": "L4pZyPjjP0Qf"
      }
    },
    {
      "cell_type": "code",
      "source": [
        "df.int_rate.describe()"
      ],
      "metadata": {
        "colab": {
          "base_uri": "https://localhost:8080/"
        },
        "id": "rBbeHJzCRs7o",
        "outputId": "3d2c1d66-3903-4d4c-c5bf-5c855a379421"
      },
      "execution_count": null,
      "outputs": [
        {
          "output_type": "execute_result",
          "data": {
            "text/plain": [
              "count    38577.000000\n",
              "mean        11.932219\n",
              "std          3.691327\n",
              "min          5.420000\n",
              "25%          8.940000\n",
              "50%         11.710000\n",
              "75%         14.380000\n",
              "max         24.400000\n",
              "Name: int_rate, dtype: float64"
            ]
          },
          "metadata": {},
          "execution_count": 58
        }
      ]
    },
    {
      "cell_type": "code",
      "source": [
        "#bins are created keeping the feature statistics in mind\n",
        "bins = [5,10,15,20,25]\n",
        "slot = ['5-10','10-15','15-20','20-25']\n",
        "\n",
        "df['int_rate_range']=pd.cut(df['int_rate'],bins,labels=slot)"
      ],
      "metadata": {
        "id": "AaPTut-3RqUD"
      },
      "execution_count": null,
      "outputs": []
    },
    {
      "cell_type": "code",
      "source": [
        "univariate_analysis('int_rate_range','loan_status')"
      ],
      "metadata": {
        "colab": {
          "base_uri": "https://localhost:8080/",
          "height": 391
        },
        "id": "Vt18kwbeR-Py",
        "outputId": "e7813058-390f-4213-b045-35497a572dc5"
      },
      "execution_count": null,
      "outputs": [
        {
          "output_type": "display_data",
          "data": {
            "text/plain": [
              "<Figure size 646.35x360 with 1 Axes>"
            ],
            "image/png": "[encoded data removed]"
          },
          "metadata": {
            "needs_background": "light"
          }
        }
      ]
    },
    {
      "cell_type": "markdown",
      "source": [
        "As the rate of interest increases, the default cases tend to increase too. \n",
        "\n",
        "**The percentage of loan being defaulted for interest rate of >15% is 25% and that of interest rate 20% or more is nearly 40%.**"
      ],
      "metadata": {
        "id": "I-ukTH4mUX8J"
      }
    },
    {
      "cell_type": "code",
      "source": [
        "#annual income and dti are correlated, but still let's check the plot against target variable\n",
        "df.dti.describe()"
      ],
      "metadata": {
        "colab": {
          "base_uri": "https://localhost:8080/"
        },
        "id": "ekS8Af0nVNJh",
        "outputId": "a2cd5b11-c2e6-4694-b2c2-aefff91f9004"
      },
      "execution_count": null,
      "outputs": [
        {
          "output_type": "execute_result",
          "data": {
            "text/plain": [
              "count    38577.000000\n",
              "mean        13.272727\n",
              "std          6.673044\n",
              "min          0.000000\n",
              "25%          8.130000\n",
              "50%         13.370000\n",
              "75%         18.560000\n",
              "max         29.990000\n",
              "Name: dti, dtype: float64"
            ]
          },
          "metadata": {},
          "execution_count": 61
        }
      ]
    },
    {
      "cell_type": "code",
      "source": [
        "#bins are created keeping the feature statistics in mind\n",
        "bins = [0,6,12,18,24,30]\n",
        "slot = ['0-6','6-12','12-18','18-24','24-30']\n",
        "\n",
        "df['dti_range']=pd.cut(df['dti'],bins,labels=slot)"
      ],
      "metadata": {
        "id": "vRF0YelDVd56"
      },
      "execution_count": null,
      "outputs": []
    },
    {
      "cell_type": "code",
      "source": [
        "univariate_analysis('dti_range','loan_status')"
      ],
      "metadata": {
        "colab": {
          "base_uri": "https://localhost:8080/",
          "height": 391
        },
        "id": "ZTlmcOaEV6sX",
        "outputId": "8e7ab296-8326-45e8-f587-14cc84e1e2b1"
      },
      "execution_count": null,
      "outputs": [
        {
          "output_type": "display_data",
          "data": {
            "text/plain": [
              "<Figure size 646.35x360 with 1 Axes>"
            ],
            "image/png": "[encoded data removed]"
          },
          "metadata": {
            "needs_background": "light"
          }
        }
      ]
    },
    {
      "cell_type": "code",
      "source": [
        "plt.figure(figsize=(10,8))\n",
        "sns.histplot(data=df, x='dti', kde=True, hue='loan_status', palette='Paired', bins=10)\n",
        "plt.title(\"PDF of customers' dti against target variable\", fontsize=12, color='Red')\n",
        "plt.show()"
      ],
      "metadata": {
        "colab": {
          "base_uri": "https://localhost:8080/",
          "height": 518
        },
        "id": "OXSxb_3mQDB6",
        "outputId": "a0f787b8-4a7e-452e-ae39-03f49d432caf"
      },
      "execution_count": null,
      "outputs": [
        {
          "output_type": "display_data",
          "data": {
            "text/plain": [
              "<Figure size 720x576 with 1 Axes>"
            ],
            "image/png": "[encoded data removed]"
          },
          "metadata": {
            "needs_background": "light"
          }
        }
      ]
    },
    {
      "cell_type": "markdown",
      "source": [
        "dti is ratio of total monthly debt and total income.\n",
        "\n",
        "Graph has higher density in the middle as employees with mid range income tend to take higher loans and thus possibly higher defaults. "
      ],
      "metadata": {
        "id": "zZCLhhByX379"
      }
    },
    {
      "cell_type": "code",
      "source": [
        "#Derived variable\n",
        "df['yearof_issue_d'] = pd.DatetimeIndex(df['issue_d']).year\n",
        "year_of_issue_agg = df.groupby(by='yearof_issue_d')['loan_status'].value_counts().rename('count').reset_index()"
      ],
      "metadata": {
        "id": "K2icG6qL8sLQ"
      },
      "execution_count": null,
      "outputs": []
    },
    {
      "cell_type": "code",
      "source": [
        "univariate_analysis('yearof_issue_d','loan_status')"
      ],
      "metadata": {
        "colab": {
          "base_uri": "https://localhost:8080/",
          "height": 387
        },
        "id": "Y1mGX54WcLfp",
        "outputId": "7f1f44ea-dac8-49a7-bca1-88b1336cf8f7"
      },
      "execution_count": null,
      "outputs": [
        {
          "output_type": "display_data",
          "data": {
            "text/plain": [
              "<Figure size 646.35x360 with 1 Axes>"
            ],
            "image/png": "[encoded data removed]"
          },
          "metadata": {
            "needs_background": "light"
          }
        }
      ]
    },
    {
      "cell_type": "markdown",
      "source": [
        "highest default cases in loan issue year 2007 followed by 2008,2011\n"
      ],
      "metadata": {
        "id": "mmUijYVlMUUP"
      }
    },
    {
      "cell_type": "code",
      "source": [
        "print(df[\"loan_amnt\"].describe())\n",
        "plt.figure(figsize=(15,5))\n",
        "plt.boxplot(df[\"loan_amnt\"],vert=False)\n",
        "plt.show()"
      ],
      "metadata": {
        "colab": {
          "base_uri": "https://localhost:8080/",
          "height": 486
        },
        "id": "mV-gHjWbZ7gk",
        "outputId": "f5c0f3f0-2d0b-41cf-d703-dd58458f0c7d"
      },
      "execution_count": null,
      "outputs": [
        {
          "output_type": "stream",
          "name": "stdout",
          "text": [
            "count    38577.000000\n",
            "mean     11047.025430\n",
            "std       7348.441646\n",
            "min        500.000000\n",
            "25%       5300.000000\n",
            "50%       9600.000000\n",
            "75%      15000.000000\n",
            "max      35000.000000\n",
            "Name: loan_amnt, dtype: float64\n"
          ]
        },
        {
          "output_type": "display_data",
          "data": {
            "text/plain": [
              "<Figure size 1080x360 with 1 Axes>"
            ],
            "image/png": "[encoded data removed]"
          },
          "metadata": {
            "needs_background": "light"
          }
        }
      ]
    },
    {
      "cell_type": "markdown",
      "source": [
        "Loan amount too has some outliers. Let's plot against target variable to check the default ratio.\n"
      ],
      "metadata": {
        "id": "WHvDxIobaD93"
      }
    },
    {
      "cell_type": "code",
      "source": [
        "#bins are created keeping the feature statistics in mind\n",
        "bins = [0,5000,10000,15000,20000,25000,30000,35000]\n",
        "slot = ['0-5000','5000-10000','10000-15000','15000-20000','20000-25000','25000-30000','30000-35000']\n",
        "\n",
        "df['loan_amnt_range']=pd.cut(df['loan_amnt'],bins,labels=slot)"
      ],
      "metadata": {
        "id": "xbrbWV6SaN0u"
      },
      "execution_count": null,
      "outputs": []
    },
    {
      "cell_type": "code",
      "source": [
        "univariate_analysis('loan_amnt_range','loan_status',2)"
      ],
      "metadata": {
        "colab": {
          "base_uri": "https://localhost:8080/",
          "height": 433
        },
        "id": "TJ87LXDkarE6",
        "outputId": "f7c02063-d725-4e0e-f725-73b548c54197"
      },
      "execution_count": null,
      "outputs": [
        {
          "output_type": "display_data",
          "data": {
            "text/plain": [
              "<Figure size 826.35x360 with 1 Axes>"
            ],
            "image/png": "[encoded data removed]"
          },
          "metadata": {
            "needs_background": "light"
          }
        }
      ]
    },
    {
      "cell_type": "markdown",
      "source": [
        "Higher the loan amount higher the chances of defaulting."
      ],
      "metadata": {
        "id": "nIcstgbqdKou"
      }
    },
    {
      "cell_type": "code",
      "source": [
        "print(df[\"total_acc\"].describe())\n",
        "plt.figure(figsize=(15,5))\n",
        "plt.boxplot(df[\"total_acc\"],vert=False)\n",
        "plt.show()"
      ],
      "metadata": {
        "colab": {
          "base_uri": "https://localhost:8080/",
          "height": 486
        },
        "outputId": "b3b3d406-caac-4206-c55b-6420a126b91d",
        "id": "_3nhLO9qO0l0"
      },
      "execution_count": null,
      "outputs": [
        {
          "output_type": "stream",
          "name": "stdout",
          "text": [
            "count    38577.000000\n",
            "mean        22.052648\n",
            "std         11.425861\n",
            "min          2.000000\n",
            "25%         13.000000\n",
            "50%         20.000000\n",
            "75%         29.000000\n",
            "max         90.000000\n",
            "Name: total_acc, dtype: float64\n"
          ]
        },
        {
          "output_type": "display_data",
          "data": {
            "text/plain": [
              "<Figure size 1080x360 with 1 Axes>"
            ],
            "image/png": "[encoded data removed]"
          },
          "metadata": {
            "needs_background": "light"
          }
        }
      ]
    },
    {
      "cell_type": "markdown",
      "source": [
        "There are some outliers in total accounts feature, which we might get some insight when plotted against target variable."
      ],
      "metadata": {
        "id": "Lzh6aBtyO5lS"
      }
    },
    {
      "cell_type": "code",
      "source": [
        "#bins are created keeping the feature statistics in mind\n",
        "bins = [0,15,30,45,60,75,90]\n",
        "slot = ['0-15','15-30','30-45','45-60','60-75','75-90']\n",
        "\n",
        "df['total_acc_range']=pd.cut(df['total_acc'],bins,labels=slot)"
      ],
      "metadata": {
        "id": "lN4c3S6QPXnv"
      },
      "execution_count": null,
      "outputs": []
    },
    {
      "cell_type": "code",
      "source": [
        "univariate_analysis('total_acc_range','loan_status')"
      ],
      "metadata": {
        "colab": {
          "base_uri": "https://localhost:8080/",
          "height": 391
        },
        "id": "2ifJojpIZS8W",
        "outputId": "c9caa95f-fff8-4da5-f39b-9b2678bfec88"
      },
      "execution_count": null,
      "outputs": [
        {
          "output_type": "display_data",
          "data": {
            "text/plain": [
              "<Figure size 646.35x360 with 1 Axes>"
            ],
            "image/png": "[encoded data removed]"
          },
          "metadata": {
            "needs_background": "light"
          }
        }
      ]
    },
    {
      "cell_type": "markdown",
      "source": [
        "This feature doesn't seem to give much insight."
      ],
      "metadata": {
        "id": "MjmcLh3aZpdH"
      }
    },
    {
      "cell_type": "markdown",
      "source": [
        "# **Bivariate Analysis**"
      ],
      "metadata": {
        "id": "JMFzxaYFPN6N"
      }
    },
    {
      "cell_type": "code",
      "source": [
        "def bivariate_analysis(x,y,hue,kind='bar',aspect_size=1.5):\n",
        "  sns.catplot(data=df,x=x,y=y,hue=hue,kind=kind,height=7,aspect=aspect_size).set_xticklabels(rotation=90)"
      ],
      "metadata": {
        "id": "_ran1ZVpnJDm"
      },
      "execution_count": null,
      "outputs": []
    },
    {
      "cell_type": "code",
      "source": [
        "bivariate_analysis('loan_amnt','purpose','loan_status','box',2)"
      ],
      "metadata": {
        "colab": {
          "base_uri": "https://localhost:8080/",
          "height": 540
        },
        "id": "rbkFxNkWniAi",
        "outputId": "78c7ba9d-b765-4f26-b437-bdcbae90b888"
      },
      "execution_count": null,
      "outputs": [
        {
          "output_type": "display_data",
          "data": {
            "text/plain": [
              "<Figure size 1114.35x504 with 1 Axes>"
            ],
            "image/png": "[encoded data removed]"
          },
          "metadata": {
            "needs_background": "light"
          }
        }
      ]
    },
    {
      "cell_type": "markdown",
      "source": [
        "High loans were taken for small businesses followed by debt consolidation and loans against credit cards, which have higher tendency of defaulting."
      ],
      "metadata": {
        "id": "0MxlRNOxpb32"
      }
    },
    {
      "cell_type": "code",
      "source": [
        "bivariate_analysis('grade','annual_inc','loan_status','bar')"
      ],
      "metadata": {
        "colab": {
          "base_uri": "https://localhost:8080/",
          "height": 512
        },
        "id": "k46rpdLyp5xr",
        "outputId": "7ca8443c-15d6-47df-c397-e45e303df10f"
      },
      "execution_count": null,
      "outputs": [
        {
          "output_type": "display_data",
          "data": {
            "text/plain": [
              "<Figure size 862.35x504 with 1 Axes>"
            ],
            "image/png": "[encoded data removed]"
          },
          "metadata": {
            "needs_background": "light"
          }
        }
      ]
    },
    {
      "cell_type": "markdown",
      "source": [
        "Higher incomes have grade in increasing manner, highest income would have grade G. \n",
        "\n",
        "Grades E, F and G have defaulted more. \n",
        "\n",
        "So, though the income is high, the loan approval/rejection should be evaluated by considering other factors like grade too."
      ],
      "metadata": {
        "id": "wcVUz99Yr39s"
      }
    },
    {
      "cell_type": "code",
      "source": [
        "bivariate_analysis('loan_amnt','grade','loan_status','box')"
      ],
      "metadata": {
        "colab": {
          "base_uri": "https://localhost:8080/",
          "height": 540
        },
        "id": "NmSQ36uqwdw0",
        "outputId": "a49dfcc6-3916-48d5-b420-e9c1bf27da0b"
      },
      "execution_count": null,
      "outputs": [
        {
          "output_type": "display_data",
          "data": {
            "text/plain": [
              "<Figure size 862.35x504 with 1 Axes>"
            ],
            "image/png": "[encoded data removed]"
          },
          "metadata": {
            "needs_background": "light"
          }
        }
      ]
    },
    {
      "cell_type": "markdown",
      "source": [
        "There seem to be exemptions in the loan amount sanctions in lower grades i.e. A,B,C & D as we see outliers. \n",
        "\n",
        "From the plot it's clear that these grades have defaults at higher income range. To avoid the loss, loans of higher amount can be carefully considered before approving it for lower grades."
      ],
      "metadata": {
        "id": "khV1ny3lxnoh"
      }
    },
    {
      "cell_type": "code",
      "source": [
        "bivariate_analysis('annual_inc_range','loan_amnt','loan_status','bar')"
      ],
      "metadata": {
        "colab": {
          "base_uri": "https://localhost:8080/",
          "height": 547
        },
        "id": "To0tXsB_QlHk",
        "outputId": "a923f056-844c-438e-9ecf-990e23cf2972"
      },
      "execution_count": null,
      "outputs": [
        {
          "output_type": "display_data",
          "data": {
            "text/plain": [
              "<Figure size 862.35x504 with 1 Axes>"
            ],
            "image/png": "[encoded data removed]"
          },
          "metadata": {
            "needs_background": "light"
          }
        }
      ]
    },
    {
      "cell_type": "markdown",
      "source": [
        "Across all income groups, higher the loan amount higher the default rates."
      ],
      "metadata": {
        "id": "4R-1lWhFS5lo"
      }
    },
    {
      "cell_type": "code",
      "source": [
        "bivariate_analysis('loan_amnt_range','int_rate','loan_status','bar')"
      ],
      "metadata": {
        "colab": {
          "base_uri": "https://localhost:8080/",
          "height": 577
        },
        "id": "tkwDc9YeRvWX",
        "outputId": "d8595ce2-3e23-4af1-bbc3-909118987b5a"
      },
      "execution_count": null,
      "outputs": [
        {
          "output_type": "display_data",
          "data": {
            "text/plain": [
              "<Figure size 862.35x504 with 1 Axes>"
            ],
            "image/png": "[encoded data removed]"
          },
          "metadata": {
            "needs_background": "light"
          }
        }
      ]
    },
    {
      "cell_type": "markdown",
      "source": [
        "Across all loan amount range, higher the interest rates higher the default rates."
      ],
      "metadata": {
        "id": "Sbzkz4BBUM0U"
      }
    },
    {
      "cell_type": "code",
      "source": [
        "bivariate_analysis('emp_length','loan_amnt','loan_status','bar')"
      ],
      "metadata": {
        "colab": {
          "base_uri": "https://localhost:8080/",
          "height": 560
        },
        "id": "NugX2MahWcj3",
        "outputId": "e064d4f4-cbbc-4347-c455-82948bc3c988"
      },
      "execution_count": null,
      "outputs": [
        {
          "output_type": "display_data",
          "data": {
            "text/plain": [
              "<Figure size 862.35x504 with 1 Axes>"
            ],
            "image/png": "[encoded data removed]"
          },
          "metadata": {
            "needs_background": "light"
          }
        }
      ]
    },
    {
      "cell_type": "markdown",
      "source": [
        "Employees who have worked for longer have higher loan amount approved. Likewise, the charge-off is also higher with higher loan amount and especially with employees of work history with 10+ years. "
      ],
      "metadata": {
        "id": "Xt4QcycwYodi"
      }
    },
    {
      "cell_type": "code",
      "source": [
        "bivariate_analysis('home_ownership','loan_amnt','loan_status','violin')"
      ],
      "metadata": {
        "colab": {
          "base_uri": "https://localhost:8080/",
          "height": 566
        },
        "id": "IGqTRn4MaICa",
        "outputId": "e65d53ed-7764-4a86-d518-6d3557115f03"
      },
      "execution_count": null,
      "outputs": [
        {
          "output_type": "display_data",
          "data": {
            "text/plain": [
              "<Figure size 862.35x504 with 1 Axes>"
            ],
            "image/png": "[encoded data removed]"
          },
          "metadata": {
            "needs_background": "light"
          }
        }
      ]
    },
    {
      "cell_type": "markdown",
      "source": [
        "High loan amounts approved are majority for Mortages, high default is seen in same. Also, in home ownership of type 'Other' default tendency is significantly higher."
      ],
      "metadata": {
        "id": "zAIBAFY2aSEQ"
      }
    },
    {
      "cell_type": "code",
      "source": [
        "bivariate_analysis('verification_status','loan_amnt','loan_status','bar')"
      ],
      "metadata": {
        "colab": {
          "base_uri": "https://localhost:8080/",
          "height": 587
        },
        "id": "YJ7AJ6FBfOMd",
        "outputId": "bf5c1713-39e3-4c04-cf93-17369626fdd8"
      },
      "execution_count": null,
      "outputs": [
        {
          "output_type": "display_data",
          "data": {
            "text/plain": [
              "<Figure size 862.35x504 with 1 Axes>"
            ],
            "image/png": "[encoded data removed]"
          },
          "metadata": {
            "needs_background": "light"
          }
        }
      ]
    },
    {
      "cell_type": "markdown",
      "source": [
        "The graph states that higher loan amount applications have been verified, however default rate is high for verified loans. "
      ],
      "metadata": {
        "id": "7YI58Rp-ZMjq"
      }
    },
    {
      "cell_type": "code",
      "source": [
        "bivariate_analysis('addr_state','loan_amnt','loan_status','bar',2.5)"
      ],
      "metadata": {
        "colab": {
          "base_uri": "https://localhost:8080/",
          "height": 494
        },
        "id": "zPs0-fHmZEG6",
        "outputId": "6d7ba06c-3752-42ae-ae46-a232ca9e1fcd"
      },
      "execution_count": null,
      "outputs": [
        {
          "output_type": "display_data",
          "data": {
            "text/plain": [
              "<Figure size 1366.35x504 with 1 Axes>"
            ],
            "image/png": "[encoded data removed]"
          },
          "metadata": {
            "needs_background": "light"
          }
        }
      ]
    },
    {
      "cell_type": "markdown",
      "source": [
        "State 'WY' with higher loan amount has seen significantly high default tendency. "
      ],
      "metadata": {
        "id": "YrWIf5FeffIv"
      }
    },
    {
      "cell_type": "markdown",
      "source": [
        "#**Key Observations** "
      ],
      "metadata": {
        "id": "Q1zQxXZ_f51z"
      }
    },
    {
      "cell_type": "markdown",
      "source": [
        "1. State: \n",
        "\n",
        "  *   States IA, IN and ME have 0 default cases and hence no risk here.\n",
        "  *   Whereas states NE has higher default ratio than paying out the loan fully. And state WE has higher default cases when it comes to higher loan amounts.\n",
        "\n",
        "2. Grade/Sub Grade:\n",
        "\n",
        "  *   High annual income customers' loans have higher loan amount approvals and are given higher grades. \n",
        "  *   But as grades go higher, default cases increase exponentially. Subgrades F5,G3,G5 have comparatively defaulted more.\n",
        "\n",
        "3. Verification status:\n",
        "  *   Most verified loans are the ones with higher loan amount. \n",
        "  *   But interestingly, contradictory to belief, verified loans have defaulted more. This might mean that some customers might have submitted fake documents to get high loan amounts approved.\n",
        "\n",
        "4. Employment Length:\n",
        "  *   From the data plots it's clear that the Employees with 10+ years are granted higher loan amounts. These employees with 10+ years employment history have defaulted more.\n",
        "\n",
        "5. Purpose:\n",
        "  *  Loan purpose as Small business, Renewable energy have high default ratio.\n",
        "  *  Higher loan amounts approved for small businesses have higher tendency of defaulting, followed by debt consolidation and loans against credit cards. \n",
        "  *  Loans for small business seem to be risky and needs to be considered with additional verification. "
      ],
      "metadata": {
        "id": "K2En30OPgB-R"
      }
    }
  ]
}